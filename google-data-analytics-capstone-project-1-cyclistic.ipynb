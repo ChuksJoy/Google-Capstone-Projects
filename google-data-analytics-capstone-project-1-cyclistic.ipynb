{
 "cells": [
  {
   "cell_type": "markdown",
   "id": "859abbc6",
   "metadata": {
    "papermill": {
     "duration": 0.012975,
     "end_time": "2022-06-02T11:55:09.201335",
     "exception": false,
     "start_time": "2022-06-02T11:55:09.188360",
     "status": "completed"
    },
    "tags": []
   },
   "source": [
    "# Capstone Project Case Study 1- How Does a Bike-Share Naviate Speedy Success?\n",
    "**For this Case Study, I will be Using the [Cyclistic Dataset](https://www.kaggle.com/datasets/mihelic/cyclistic)**\n",
    "    **I am Joy Chuks- Nwosu, but I'd love to be addessed as Ivory**\n",
    "    **Date: 1st June 2022**\n",
    "    \n",
    " **Introduction**\n",
    "I will be Showing you my approach to this project as a Jnr. Data Analyst working in a Marketing analyst team at Cyclistic.(PS: this is hypothetically because it is for my Google Data Analytics Certificate)\n",
    "You will find the full document for this case study [here](https://www.coursera.org/learn/google-data-analytics-capstone)\n",
    "I will following the steps of the data analysis process: **ask, prepare, process, analyze, share, and act.**\n",
    "\n",
    "**Back Story - About Cyclistic**\n",
    "Cyclistic is a bike-share program that features more than 5,800 bicycles and 600 docking stations. Cyclistic sets itself apart by also offering reclining bikes, hand tricycles, and cargo bikes, making bike-share more inclusive to people with disabilities and riders who can’t use a standard two-wheeled bike. The majority of riders opt for traditional bikes; about 8% of riders use the assistive options. Cyclistic users are more likely to ride for leisure, but about 30% use them to commute to work each day.\n",
    "\n",
    "The director of marketing, **Lily Moreno** believes the company’s future success depends on maximizing the number of annual memberships.\n",
    "\n",
    "**Challenge:** Understand how casual riders and annual members use Cyclistic bikes differently.\n",
    "**Goal:** design a new marketing strategy to convert casual riders into annual members. for this my team an I will need approval from The notoriously detail-oriented executive team\n",
    "\n",
    "As earlier mentioned, I will be following the Data analysis Process to tackle this;\n",
    "\n",
    "# Ask\n",
    "**What is the question that will guide my team to solve this problem? **\n",
    "* What is the problem you are trying to solve? \n",
    "According to the director, Lily, Cyclistic's future success depends on an increase in annual membership, thus the problem here is maximizing annual membership.\n",
    "* How can your insights drive business decisions?\n",
    "The insight will help my team come up with strategies to increase annual members\n",
    "\n",
    "**Business Task:** Find how casual riders use the bikes differently from members and how we can influence them to be annual members\n",
    "\n",
    "# Prepare\n",
    "For this, data was provided by goggle in the course as it has been lisenced and made available by Motivate International Inc.You can find that [here](https://divvy-tripdata.s3.amazonaws.com/index.html). but since i will be using kaggle, I will go ahead to use the [Cyclistic dataset](https://www.kaggle.com/datasets/mihelic/cyclistic) provided by Kaggle which is a 12 months divvy-tripdata(from 202004 to 202103) the company provided.\n",
    "\n",
    "# Process\n",
    "Like I have earlier mentioned, I will be using R as a language in Kaggle. I will like to go ahead and assume the data has integrity because it is an internal data provided by the company, however, will check for inconsistencies in the columns and rows, outliers, clean the data and prepare for analysis. As we progress, will make markdown reports of steps taken. The dataset which is in different .csv files for each month will be merged to one dataframe for easy analysis\n",
    "\n",
    "**Will first load the libraries i will be using for my analysis and they are**\n",
    "*  Tidyverse which helps wrangle data\n",
    "*  Lubridate which helps wrangle data attributes\n",
    "*  ggplot2  which helps visualize data"
   ]
  },
  {
   "cell_type": "code",
   "execution_count": 1,
   "id": "06c3e2e7",
   "metadata": {
    "execution": {
     "iopub.execute_input": "2022-06-02T11:55:09.226051Z",
     "iopub.status.busy": "2022-06-02T11:55:09.223354Z",
     "iopub.status.idle": "2022-06-02T11:55:10.510403Z",
     "shell.execute_reply": "2022-06-02T11:55:10.508593Z"
    },
    "papermill": {
     "duration": 1.301521,
     "end_time": "2022-06-02T11:55:10.512825",
     "exception": false,
     "start_time": "2022-06-02T11:55:09.211304",
     "status": "completed"
    },
    "tags": []
   },
   "outputs": [
    {
     "name": "stderr",
     "output_type": "stream",
     "text": [
      "── \u001b[1mAttaching packages\u001b[22m ─────────────────────────────────────── tidyverse 1.3.1 ──\n",
      "\n",
      "\u001b[32m✔\u001b[39m \u001b[34mggplot2\u001b[39m 3.3.5     \u001b[32m✔\u001b[39m \u001b[34mpurrr  \u001b[39m 0.3.4\n",
      "\u001b[32m✔\u001b[39m \u001b[34mtibble \u001b[39m 3.1.6     \u001b[32m✔\u001b[39m \u001b[34mdplyr  \u001b[39m 1.0.8\n",
      "\u001b[32m✔\u001b[39m \u001b[34mtidyr  \u001b[39m 1.2.0     \u001b[32m✔\u001b[39m \u001b[34mstringr\u001b[39m 1.4.0\n",
      "\u001b[32m✔\u001b[39m \u001b[34mreadr  \u001b[39m 2.1.2     \u001b[32m✔\u001b[39m \u001b[34mforcats\u001b[39m 0.5.1\n",
      "\n",
      "── \u001b[1mConflicts\u001b[22m ────────────────────────────────────────── tidyverse_conflicts() ──\n",
      "\u001b[31m✖\u001b[39m \u001b[34mdplyr\u001b[39m::\u001b[32mfilter()\u001b[39m masks \u001b[34mstats\u001b[39m::filter()\n",
      "\u001b[31m✖\u001b[39m \u001b[34mdplyr\u001b[39m::\u001b[32mlag()\u001b[39m    masks \u001b[34mstats\u001b[39m::lag()\n",
      "\n"
     ]
    }
   ],
   "source": [
    "library(tidyverse)"
   ]
  },
  {
   "cell_type": "code",
   "execution_count": 2,
   "id": "251971bb",
   "metadata": {
    "execution": {
     "iopub.execute_input": "2022-06-02T11:55:10.567159Z",
     "iopub.status.busy": "2022-06-02T11:55:10.536524Z",
     "iopub.status.idle": "2022-06-02T11:55:10.596886Z",
     "shell.execute_reply": "2022-06-02T11:55:10.594681Z"
    },
    "papermill": {
     "duration": 0.075374,
     "end_time": "2022-06-02T11:55:10.599713",
     "exception": false,
     "start_time": "2022-06-02T11:55:10.524339",
     "status": "completed"
    },
    "tags": []
   },
   "outputs": [
    {
     "name": "stderr",
     "output_type": "stream",
     "text": [
      "\n",
      "Attaching package: ‘lubridate’\n",
      "\n",
      "\n",
      "The following objects are masked from ‘package:base’:\n",
      "\n",
      "    date, intersect, setdiff, union\n",
      "\n",
      "\n"
     ]
    }
   ],
   "source": [
    "library(lubridate)"
   ]
  },
  {
   "cell_type": "code",
   "execution_count": 3,
   "id": "466cedf6",
   "metadata": {
    "execution": {
     "iopub.execute_input": "2022-06-02T11:55:10.623374Z",
     "iopub.status.busy": "2022-06-02T11:55:10.621553Z",
     "iopub.status.idle": "2022-06-02T11:55:10.636680Z",
     "shell.execute_reply": "2022-06-02T11:55:10.634960Z"
    },
    "papermill": {
     "duration": 0.029957,
     "end_time": "2022-06-02T11:55:10.639823",
     "exception": false,
     "start_time": "2022-06-02T11:55:10.609866",
     "status": "completed"
    },
    "tags": []
   },
   "outputs": [],
   "source": [
    "library(ggplot2)"
   ]
  },
  {
   "cell_type": "code",
   "execution_count": 4,
   "id": "308ed716",
   "metadata": {
    "execution": {
     "iopub.execute_input": "2022-06-02T11:55:10.662659Z",
     "iopub.status.busy": "2022-06-02T11:55:10.661155Z",
     "iopub.status.idle": "2022-06-02T11:56:32.461719Z",
     "shell.execute_reply": "2022-06-02T11:56:32.459930Z"
    },
    "papermill": {
     "duration": 81.814754,
     "end_time": "2022-06-02T11:56:32.464400",
     "exception": false,
     "start_time": "2022-06-02T11:55:10.649646",
     "status": "completed"
    },
    "tags": []
   },
   "outputs": [],
   "source": [
    "#import divvy-tripdata (.csv files) here\n",
    "# dt here stands for divvy-tripdata and the numbers represent each month of the data from april 2020 which is the first month to march 2021 which is the 12th month\n",
    "\n",
    "\n",
    "dt1 <- read.csv(\"../input/cyclistic/202004-divvy-tripdata/202004-divvy-tripdata.csv\")\n",
    "dt2 <- read.csv(\"../input/cyclistic/202005-divvy-tripdata/202005-divvy-tripdata.csv\")\n",
    "dt3 <- read.csv(\"../input/cyclistic/202006-divvy-tripdata/202006-divvy-tripdata.csv\")\n",
    "dt4 <- read.csv(\"../input/cyclistic/202007-divvy-tripdata/202007-divvy-tripdata.csv\")\n",
    "dt5 <- read.csv(\"../input/cyclistic/202008-divvy-tripdata/202008-divvy-tripdata.csv\")\n",
    "dt6 <- read.csv(\"../input/cyclistic/202009-divvy-tripdata/202009-divvy-tripdata.csv\")\n",
    "dt7 <- read.csv(\"../input/cyclistic/202010-divvy-tripdata/202010-divvy-tripdata.csv\")\n",
    "dt8 <- read.csv(\"../input/cyclistic/202011-divvy-tripdata/202011-divvy-tripdata.csv\")\n",
    "dt9 <- read.csv(\"../input/cyclistic/202012-divvy-tripdata/202012-divvy-tripdata.csv\")\n",
    "dt10 <- read.csv(\"../input/cyclistic/202101-divvy-tripdata/202101-divvy-tripdata.csv\")\n",
    "dt11 <- read.csv(\"../input/cyclistic/202102-divvy-tripdata/202102-divvy-tripdata.csv\")\n",
    "dt12 <- read.csv(\"../input/cyclistic/202103-divvy-tripdata/202103-divvy-tripdata.csv\")\n",
    " #combine them into a data frame i will call tripdata usind a rbind function\n",
    "tripdata <- rbind(dt1,dt2, dt3, dt4, dt5, dt6, dt7, dt8, dt9, dt10, dt11, dt12)\n",
    "\n"
   ]
  },
  {
   "cell_type": "code",
   "execution_count": 5,
   "id": "8d4c1aea",
   "metadata": {
    "execution": {
     "iopub.execute_input": "2022-06-02T11:56:32.491020Z",
     "iopub.status.busy": "2022-06-02T11:56:32.489568Z",
     "iopub.status.idle": "2022-06-02T11:56:32.508120Z",
     "shell.execute_reply": "2022-06-02T11:56:32.506525Z"
    },
    "papermill": {
     "duration": 0.032251,
     "end_time": "2022-06-02T11:56:32.510371",
     "exception": false,
     "start_time": "2022-06-02T11:56:32.478120",
     "status": "completed"
    },
    "tags": []
   },
   "outputs": [
    {
     "data": {
      "text/html": [
       "<style>\n",
       ".list-inline {list-style: none; margin:0; padding: 0}\n",
       ".list-inline>li {display: inline-block}\n",
       ".list-inline>li:not(:last-child)::after {content: \"\\00b7\"; padding: 0 .5ex}\n",
       "</style>\n",
       "<ol class=list-inline><li>3489748</li><li>13</li></ol>\n"
      ],
      "text/latex": [
       "\\begin{enumerate*}\n",
       "\\item 3489748\n",
       "\\item 13\n",
       "\\end{enumerate*}\n"
      ],
      "text/markdown": [
       "1. 3489748\n",
       "2. 13\n",
       "\n",
       "\n"
      ],
      "text/plain": [
       "[1] 3489748      13"
      ]
     },
     "metadata": {},
     "output_type": "display_data"
    }
   ],
   "source": [
    "#use a dim function to see the dimension of the dataframe that is how big our dataframe is\n",
    "dim(tripdata)"
   ]
  },
  {
   "cell_type": "code",
   "execution_count": 6,
   "id": "90027c83",
   "metadata": {
    "execution": {
     "iopub.execute_input": "2022-06-02T11:56:32.533159Z",
     "iopub.status.busy": "2022-06-02T11:56:32.531756Z",
     "iopub.status.idle": "2022-06-02T11:56:32.565974Z",
     "shell.execute_reply": "2022-06-02T11:56:32.564062Z"
    },
    "papermill": {
     "duration": 0.047921,
     "end_time": "2022-06-02T11:56:32.568150",
     "exception": false,
     "start_time": "2022-06-02T11:56:32.520229",
     "status": "completed"
    },
    "tags": []
   },
   "outputs": [
    {
     "name": "stdout",
     "output_type": "stream",
     "text": [
      "'data.frame':\t3489748 obs. of  13 variables:\n",
      " $ ride_id           : chr  \"A847FADBBC638E45\" \"5405B80E996FF60D\" \"5DD24A79A4E006F4\" \"2A59BBDF5CDBA725\" ...\n",
      " $ rideable_type     : chr  \"docked_bike\" \"docked_bike\" \"docked_bike\" \"docked_bike\" ...\n",
      " $ started_at        : chr  \"2020-04-26 17:45:14\" \"2020-04-17 17:08:54\" \"2020-04-01 17:54:13\" \"2020-04-07 12:50:19\" ...\n",
      " $ ended_at          : chr  \"2020-04-26 18:12:03\" \"2020-04-17 17:17:03\" \"2020-04-01 18:08:36\" \"2020-04-07 13:02:31\" ...\n",
      " $ start_station_name: chr  \"Eckhart Park\" \"Drake Ave & Fullerton Ave\" \"McClurg Ct & Erie St\" \"California Ave & Division St\" ...\n",
      " $ start_station_id  : chr  \"86\" \"503\" \"142\" \"216\" ...\n",
      " $ end_station_name  : chr  \"Lincoln Ave & Diversey Pkwy\" \"Kosciuszko Park\" \"Indiana Ave & Roosevelt Rd\" \"Wood St & Augusta Blvd\" ...\n",
      " $ end_station_id    : chr  \"152\" \"499\" \"255\" \"657\" ...\n",
      " $ start_lat         : num  41.9 41.9 41.9 41.9 41.9 ...\n",
      " $ start_lng         : num  -87.7 -87.7 -87.6 -87.7 -87.6 ...\n",
      " $ end_lat           : num  41.9 41.9 41.9 41.9 42 ...\n",
      " $ end_lng           : num  -87.7 -87.7 -87.6 -87.7 -87.7 ...\n",
      " $ member_casual     : chr  \"member\" \"member\" \"member\" \"member\" ...\n"
     ]
    }
   ],
   "source": [
    "#find out the structure of my dataframe\n",
    "str(tripdata)"
   ]
  },
  {
   "cell_type": "markdown",
   "id": "e56b4ad0",
   "metadata": {
    "papermill": {
     "duration": 0.010531,
     "end_time": "2022-06-02T11:56:32.588887",
     "exception": false,
     "start_time": "2022-06-02T11:56:32.578356",
     "status": "completed"
    },
    "tags": []
   },
   "source": [
    "**From the dataframe structure above, we can see that the data has 3,489,748 rows or observations and 13 columns or variables**"
   ]
  },
  {
   "cell_type": "code",
   "execution_count": 7,
   "id": "80ef7b78",
   "metadata": {
    "execution": {
     "iopub.execute_input": "2022-06-02T11:56:32.612379Z",
     "iopub.status.busy": "2022-06-02T11:56:32.610842Z",
     "iopub.status.idle": "2022-06-02T11:56:32.641787Z",
     "shell.execute_reply": "2022-06-02T11:56:32.639921Z"
    },
    "papermill": {
     "duration": 0.044865,
     "end_time": "2022-06-02T11:56:32.644100",
     "exception": false,
     "start_time": "2022-06-02T11:56:32.599235",
     "status": "completed"
    },
    "tags": []
   },
   "outputs": [
    {
     "data": {
      "text/html": [
       "<table class=\"dataframe\">\n",
       "<caption>A data.frame: 6 × 13</caption>\n",
       "<thead>\n",
       "\t<tr><th></th><th scope=col>ride_id</th><th scope=col>rideable_type</th><th scope=col>started_at</th><th scope=col>ended_at</th><th scope=col>start_station_name</th><th scope=col>start_station_id</th><th scope=col>end_station_name</th><th scope=col>end_station_id</th><th scope=col>start_lat</th><th scope=col>start_lng</th><th scope=col>end_lat</th><th scope=col>end_lng</th><th scope=col>member_casual</th></tr>\n",
       "\t<tr><th></th><th scope=col>&lt;chr&gt;</th><th scope=col>&lt;chr&gt;</th><th scope=col>&lt;chr&gt;</th><th scope=col>&lt;chr&gt;</th><th scope=col>&lt;chr&gt;</th><th scope=col>&lt;chr&gt;</th><th scope=col>&lt;chr&gt;</th><th scope=col>&lt;chr&gt;</th><th scope=col>&lt;dbl&gt;</th><th scope=col>&lt;dbl&gt;</th><th scope=col>&lt;dbl&gt;</th><th scope=col>&lt;dbl&gt;</th><th scope=col>&lt;chr&gt;</th></tr>\n",
       "</thead>\n",
       "<tbody>\n",
       "\t<tr><th scope=row>1</th><td>A847FADBBC638E45</td><td>docked_bike</td><td>2020-04-26 17:45:14</td><td>2020-04-26 18:12:03</td><td><span style=white-space:pre-wrap>Eckhart Park                       </span></td><td>86 </td><td>Lincoln Ave &amp; Diversey Pkwy</td><td>152</td><td>41.8964</td><td>-87.6610</td><td>41.9322</td><td>-87.6586</td><td>member</td></tr>\n",
       "\t<tr><th scope=row>2</th><td>5405B80E996FF60D</td><td>docked_bike</td><td>2020-04-17 17:08:54</td><td>2020-04-17 17:17:03</td><td><span style=white-space:pre-wrap>Drake Ave &amp; Fullerton Ave          </span></td><td>503</td><td><span style=white-space:pre-wrap>Kosciuszko Park            </span></td><td>499</td><td>41.9244</td><td>-87.7154</td><td>41.9306</td><td>-87.7238</td><td>member</td></tr>\n",
       "\t<tr><th scope=row>3</th><td>5DD24A79A4E006F4</td><td>docked_bike</td><td>2020-04-01 17:54:13</td><td>2020-04-01 18:08:36</td><td><span style=white-space:pre-wrap>McClurg Ct &amp; Erie St               </span></td><td>142</td><td>Indiana Ave &amp; Roosevelt Rd </td><td>255</td><td>41.8945</td><td>-87.6179</td><td>41.8679</td><td>-87.6230</td><td>member</td></tr>\n",
       "\t<tr><th scope=row>4</th><td>2A59BBDF5CDBA725</td><td>docked_bike</td><td>2020-04-07 12:50:19</td><td>2020-04-07 13:02:31</td><td><span style=white-space:pre-wrap>California Ave &amp; Division St       </span></td><td>216</td><td><span style=white-space:pre-wrap>Wood St &amp; Augusta Blvd     </span></td><td>657</td><td>41.9030</td><td>-87.6975</td><td>41.8992</td><td>-87.6722</td><td>member</td></tr>\n",
       "\t<tr><th scope=row>5</th><td>27AD306C119C6158</td><td>docked_bike</td><td>2020-04-18 10:22:59</td><td>2020-04-18 11:15:54</td><td><span style=white-space:pre-wrap>Rush St &amp; Hubbard St               </span></td><td>125</td><td>Sheridan Rd &amp; Lawrence Ave </td><td>323</td><td>41.8902</td><td>-87.6262</td><td>41.9695</td><td>-87.6547</td><td>casual</td></tr>\n",
       "\t<tr><th scope=row>6</th><td>356216E875132F61</td><td>docked_bike</td><td>2020-04-30 17:55:47</td><td>2020-04-30 18:01:11</td><td>Mies van der Rohe Way &amp; Chicago Ave</td><td>173</td><td><span style=white-space:pre-wrap>Streeter Dr &amp; Grand Ave    </span></td><td>35 </td><td>41.8969</td><td>-87.6217</td><td>41.8923</td><td>-87.6120</td><td>member</td></tr>\n",
       "</tbody>\n",
       "</table>\n"
      ],
      "text/latex": [
       "A data.frame: 6 × 13\n",
       "\\begin{tabular}{r|lllllllllllll}\n",
       "  & ride\\_id & rideable\\_type & started\\_at & ended\\_at & start\\_station\\_name & start\\_station\\_id & end\\_station\\_name & end\\_station\\_id & start\\_lat & start\\_lng & end\\_lat & end\\_lng & member\\_casual\\\\\n",
       "  & <chr> & <chr> & <chr> & <chr> & <chr> & <chr> & <chr> & <chr> & <dbl> & <dbl> & <dbl> & <dbl> & <chr>\\\\\n",
       "\\hline\n",
       "\t1 & A847FADBBC638E45 & docked\\_bike & 2020-04-26 17:45:14 & 2020-04-26 18:12:03 & Eckhart Park                        & 86  & Lincoln Ave \\& Diversey Pkwy & 152 & 41.8964 & -87.6610 & 41.9322 & -87.6586 & member\\\\\n",
       "\t2 & 5405B80E996FF60D & docked\\_bike & 2020-04-17 17:08:54 & 2020-04-17 17:17:03 & Drake Ave \\& Fullerton Ave           & 503 & Kosciuszko Park             & 499 & 41.9244 & -87.7154 & 41.9306 & -87.7238 & member\\\\\n",
       "\t3 & 5DD24A79A4E006F4 & docked\\_bike & 2020-04-01 17:54:13 & 2020-04-01 18:08:36 & McClurg Ct \\& Erie St                & 142 & Indiana Ave \\& Roosevelt Rd  & 255 & 41.8945 & -87.6179 & 41.8679 & -87.6230 & member\\\\\n",
       "\t4 & 2A59BBDF5CDBA725 & docked\\_bike & 2020-04-07 12:50:19 & 2020-04-07 13:02:31 & California Ave \\& Division St        & 216 & Wood St \\& Augusta Blvd      & 657 & 41.9030 & -87.6975 & 41.8992 & -87.6722 & member\\\\\n",
       "\t5 & 27AD306C119C6158 & docked\\_bike & 2020-04-18 10:22:59 & 2020-04-18 11:15:54 & Rush St \\& Hubbard St                & 125 & Sheridan Rd \\& Lawrence Ave  & 323 & 41.8902 & -87.6262 & 41.9695 & -87.6547 & casual\\\\\n",
       "\t6 & 356216E875132F61 & docked\\_bike & 2020-04-30 17:55:47 & 2020-04-30 18:01:11 & Mies van der Rohe Way \\& Chicago Ave & 173 & Streeter Dr \\& Grand Ave     & 35  & 41.8969 & -87.6217 & 41.8923 & -87.6120 & member\\\\\n",
       "\\end{tabular}\n"
      ],
      "text/markdown": [
       "\n",
       "A data.frame: 6 × 13\n",
       "\n",
       "| <!--/--> | ride_id &lt;chr&gt; | rideable_type &lt;chr&gt; | started_at &lt;chr&gt; | ended_at &lt;chr&gt; | start_station_name &lt;chr&gt; | start_station_id &lt;chr&gt; | end_station_name &lt;chr&gt; | end_station_id &lt;chr&gt; | start_lat &lt;dbl&gt; | start_lng &lt;dbl&gt; | end_lat &lt;dbl&gt; | end_lng &lt;dbl&gt; | member_casual &lt;chr&gt; |\n",
       "|---|---|---|---|---|---|---|---|---|---|---|---|---|---|\n",
       "| 1 | A847FADBBC638E45 | docked_bike | 2020-04-26 17:45:14 | 2020-04-26 18:12:03 | Eckhart Park                        | 86  | Lincoln Ave &amp; Diversey Pkwy | 152 | 41.8964 | -87.6610 | 41.9322 | -87.6586 | member |\n",
       "| 2 | 5405B80E996FF60D | docked_bike | 2020-04-17 17:08:54 | 2020-04-17 17:17:03 | Drake Ave &amp; Fullerton Ave           | 503 | Kosciuszko Park             | 499 | 41.9244 | -87.7154 | 41.9306 | -87.7238 | member |\n",
       "| 3 | 5DD24A79A4E006F4 | docked_bike | 2020-04-01 17:54:13 | 2020-04-01 18:08:36 | McClurg Ct &amp; Erie St                | 142 | Indiana Ave &amp; Roosevelt Rd  | 255 | 41.8945 | -87.6179 | 41.8679 | -87.6230 | member |\n",
       "| 4 | 2A59BBDF5CDBA725 | docked_bike | 2020-04-07 12:50:19 | 2020-04-07 13:02:31 | California Ave &amp; Division St        | 216 | Wood St &amp; Augusta Blvd      | 657 | 41.9030 | -87.6975 | 41.8992 | -87.6722 | member |\n",
       "| 5 | 27AD306C119C6158 | docked_bike | 2020-04-18 10:22:59 | 2020-04-18 11:15:54 | Rush St &amp; Hubbard St                | 125 | Sheridan Rd &amp; Lawrence Ave  | 323 | 41.8902 | -87.6262 | 41.9695 | -87.6547 | casual |\n",
       "| 6 | 356216E875132F61 | docked_bike | 2020-04-30 17:55:47 | 2020-04-30 18:01:11 | Mies van der Rohe Way &amp; Chicago Ave | 173 | Streeter Dr &amp; Grand Ave     | 35  | 41.8969 | -87.6217 | 41.8923 | -87.6120 | member |\n",
       "\n"
      ],
      "text/plain": [
       "  ride_id          rideable_type started_at          ended_at           \n",
       "1 A847FADBBC638E45 docked_bike   2020-04-26 17:45:14 2020-04-26 18:12:03\n",
       "2 5405B80E996FF60D docked_bike   2020-04-17 17:08:54 2020-04-17 17:17:03\n",
       "3 5DD24A79A4E006F4 docked_bike   2020-04-01 17:54:13 2020-04-01 18:08:36\n",
       "4 2A59BBDF5CDBA725 docked_bike   2020-04-07 12:50:19 2020-04-07 13:02:31\n",
       "5 27AD306C119C6158 docked_bike   2020-04-18 10:22:59 2020-04-18 11:15:54\n",
       "6 356216E875132F61 docked_bike   2020-04-30 17:55:47 2020-04-30 18:01:11\n",
       "  start_station_name                  start_station_id\n",
       "1 Eckhart Park                        86              \n",
       "2 Drake Ave & Fullerton Ave           503             \n",
       "3 McClurg Ct & Erie St                142             \n",
       "4 California Ave & Division St        216             \n",
       "5 Rush St & Hubbard St                125             \n",
       "6 Mies van der Rohe Way & Chicago Ave 173             \n",
       "  end_station_name            end_station_id start_lat start_lng end_lat\n",
       "1 Lincoln Ave & Diversey Pkwy 152            41.8964   -87.6610  41.9322\n",
       "2 Kosciuszko Park             499            41.9244   -87.7154  41.9306\n",
       "3 Indiana Ave & Roosevelt Rd  255            41.8945   -87.6179  41.8679\n",
       "4 Wood St & Augusta Blvd      657            41.9030   -87.6975  41.8992\n",
       "5 Sheridan Rd & Lawrence Ave  323            41.8902   -87.6262  41.9695\n",
       "6 Streeter Dr & Grand Ave     35             41.8969   -87.6217  41.8923\n",
       "  end_lng  member_casual\n",
       "1 -87.6586 member       \n",
       "2 -87.7238 member       \n",
       "3 -87.6230 member       \n",
       "4 -87.6722 member       \n",
       "5 -87.6547 casual       \n",
       "6 -87.6120 member       "
      ]
     },
     "metadata": {},
     "output_type": "display_data"
    }
   ],
   "source": [
    "#will check my dataframe now to see the first 6 columns\n",
    "head(tripdata)"
   ]
  },
  {
   "cell_type": "code",
   "execution_count": 8,
   "id": "c0d9e552",
   "metadata": {
    "execution": {
     "iopub.execute_input": "2022-06-02T11:56:32.668154Z",
     "iopub.status.busy": "2022-06-02T11:56:32.666567Z",
     "iopub.status.idle": "2022-06-02T11:56:32.686418Z",
     "shell.execute_reply": "2022-06-02T11:56:32.684256Z"
    },
    "papermill": {
     "duration": 0.034932,
     "end_time": "2022-06-02T11:56:32.689403",
     "exception": false,
     "start_time": "2022-06-02T11:56:32.654471",
     "status": "completed"
    },
    "tags": []
   },
   "outputs": [
    {
     "data": {
      "text/html": [
       "<style>\n",
       ".list-inline {list-style: none; margin:0; padding: 0}\n",
       ".list-inline>li {display: inline-block}\n",
       ".list-inline>li:not(:last-child)::after {content: \"\\00b7\"; padding: 0 .5ex}\n",
       "</style>\n",
       "<ol class=list-inline><li>'ride_id'</li><li>'rideable_type'</li><li>'started_at'</li><li>'ended_at'</li><li>'start_station_name'</li><li>'start_station_id'</li><li>'end_station_name'</li><li>'end_station_id'</li><li>'start_lat'</li><li>'start_lng'</li><li>'end_lat'</li><li>'end_lng'</li><li>'member_casual'</li></ol>\n"
      ],
      "text/latex": [
       "\\begin{enumerate*}\n",
       "\\item 'ride\\_id'\n",
       "\\item 'rideable\\_type'\n",
       "\\item 'started\\_at'\n",
       "\\item 'ended\\_at'\n",
       "\\item 'start\\_station\\_name'\n",
       "\\item 'start\\_station\\_id'\n",
       "\\item 'end\\_station\\_name'\n",
       "\\item 'end\\_station\\_id'\n",
       "\\item 'start\\_lat'\n",
       "\\item 'start\\_lng'\n",
       "\\item 'end\\_lat'\n",
       "\\item 'end\\_lng'\n",
       "\\item 'member\\_casual'\n",
       "\\end{enumerate*}\n"
      ],
      "text/markdown": [
       "1. 'ride_id'\n",
       "2. 'rideable_type'\n",
       "3. 'started_at'\n",
       "4. 'ended_at'\n",
       "5. 'start_station_name'\n",
       "6. 'start_station_id'\n",
       "7. 'end_station_name'\n",
       "8. 'end_station_id'\n",
       "9. 'start_lat'\n",
       "10. 'start_lng'\n",
       "11. 'end_lat'\n",
       "12. 'end_lng'\n",
       "13. 'member_casual'\n",
       "\n",
       "\n"
      ],
      "text/plain": [
       " [1] \"ride_id\"            \"rideable_type\"      \"started_at\"        \n",
       " [4] \"ended_at\"           \"start_station_name\" \"start_station_id\"  \n",
       " [7] \"end_station_name\"   \"end_station_id\"     \"start_lat\"         \n",
       "[10] \"start_lng\"          \"end_lat\"            \"end_lng\"           \n",
       "[13] \"member_casual\"     "
      ]
     },
     "metadata": {},
     "output_type": "display_data"
    }
   ],
   "source": [
    "#still exploring the dataframe, will check for the column names \n",
    "colnames(tripdata)"
   ]
  },
  {
   "cell_type": "code",
   "execution_count": 9,
   "id": "5e7c8e52",
   "metadata": {
    "execution": {
     "iopub.execute_input": "2022-06-02T11:56:32.713722Z",
     "iopub.status.busy": "2022-06-02T11:56:32.712166Z",
     "iopub.status.idle": "2022-06-02T11:56:32.743984Z",
     "shell.execute_reply": "2022-06-02T11:56:32.742274Z"
    },
    "papermill": {
     "duration": 0.046497,
     "end_time": "2022-06-02T11:56:32.746297",
     "exception": false,
     "start_time": "2022-06-02T11:56:32.699800",
     "status": "completed"
    },
    "tags": []
   },
   "outputs": [
    {
     "name": "stdout",
     "output_type": "stream",
     "text": [
      "Rows: 3,489,748\n",
      "Columns: 13\n",
      "$ ride_id            \u001b[3m\u001b[90m<chr>\u001b[39m\u001b[23m \"A847FADBBC638E45\", \"5405B80E996FF60D\", \"5DD24A79A4…\n",
      "$ rideable_type      \u001b[3m\u001b[90m<chr>\u001b[39m\u001b[23m \"docked_bike\", \"docked_bike\", \"docked_bike\", \"docke…\n",
      "$ started_at         \u001b[3m\u001b[90m<chr>\u001b[39m\u001b[23m \"2020-04-26 17:45:14\", \"2020-04-17 17:08:54\", \"2020…\n",
      "$ ended_at           \u001b[3m\u001b[90m<chr>\u001b[39m\u001b[23m \"2020-04-26 18:12:03\", \"2020-04-17 17:17:03\", \"2020…\n",
      "$ start_station_name \u001b[3m\u001b[90m<chr>\u001b[39m\u001b[23m \"Eckhart Park\", \"Drake Ave & Fullerton Ave\", \"McClu…\n",
      "$ start_station_id   \u001b[3m\u001b[90m<chr>\u001b[39m\u001b[23m \"86\", \"503\", \"142\", \"216\", \"125\", \"173\", \"35\", \"434…\n",
      "$ end_station_name   \u001b[3m\u001b[90m<chr>\u001b[39m\u001b[23m \"Lincoln Ave & Diversey Pkwy\", \"Kosciuszko Park\", \"…\n",
      "$ end_station_id     \u001b[3m\u001b[90m<chr>\u001b[39m\u001b[23m \"152\", \"499\", \"255\", \"657\", \"323\", \"35\", \"635\", \"38…\n",
      "$ start_lat          \u001b[3m\u001b[90m<dbl>\u001b[39m\u001b[23m 41.8964, 41.9244, 41.8945, 41.9030, 41.8902, 41.896…\n",
      "$ start_lng          \u001b[3m\u001b[90m<dbl>\u001b[39m\u001b[23m -87.6610, -87.7154, -87.6179, -87.6975, -87.6262, -…\n",
      "$ end_lat            \u001b[3m\u001b[90m<dbl>\u001b[39m\u001b[23m 41.9322, 41.9306, 41.8679, 41.8992, 41.9695, 41.892…\n",
      "$ end_lng            \u001b[3m\u001b[90m<dbl>\u001b[39m\u001b[23m -87.6586, -87.7238, -87.6230, -87.6722, -87.6547, -…\n",
      "$ member_casual      \u001b[3m\u001b[90m<chr>\u001b[39m\u001b[23m \"member\", \"member\", \"member\", \"member\", \"casual\", \"…\n"
     ]
    }
   ],
   "source": [
    "glimpse(tripdata)"
   ]
  },
  {
   "cell_type": "markdown",
   "id": "d2677993",
   "metadata": {
    "papermill": {
     "duration": 0.010821,
     "end_time": "2022-06-02T11:56:32.767611",
     "exception": false,
     "start_time": "2022-06-02T11:56:32.756790",
     "status": "completed"
    },
    "tags": []
   },
   "source": [
    "**Now that we have a quick overview of what our dataframe looks like, we will clean the data and prepare for analysis**"
   ]
  },
  {
   "cell_type": "markdown",
   "id": "95f417a7",
   "metadata": {
    "papermill": {
     "duration": 0.010681,
     "end_time": "2022-06-02T11:56:32.788797",
     "exception": false,
     "start_time": "2022-06-02T11:56:32.778116",
     "status": "completed"
    },
    "tags": []
   },
   "source": [
    "# Data Cleaning\n",
    "**Remove duplicated row using the ride_id column**"
   ]
  },
  {
   "cell_type": "code",
   "execution_count": 10,
   "id": "f327790e",
   "metadata": {
    "execution": {
     "iopub.execute_input": "2022-06-02T11:56:32.814122Z",
     "iopub.status.busy": "2022-06-02T11:56:32.812538Z",
     "iopub.status.idle": "2022-06-02T11:56:35.309434Z",
     "shell.execute_reply": "2022-06-02T11:56:35.307446Z"
    },
    "papermill": {
     "duration": 2.512365,
     "end_time": "2022-06-02T11:56:35.311972",
     "exception": false,
     "start_time": "2022-06-02T11:56:32.799607",
     "status": "completed"
    },
    "tags": []
   },
   "outputs": [
    {
     "name": "stdout",
     "output_type": "stream",
     "text": [
      "[1] \"Removed 209 duplicated rows\"\n"
     ]
    }
   ],
   "source": [
    "# tripdata_nd will be the new name of the dataframe with no duplicates\n",
    "#tripdata is the name of the dataframe we are working with\n",
    "#used the print function to ask R to return the number of duplicated rows removed from the tripdata dataframe \n",
    "\n",
    "tripdata_nd <-tripdata[!duplicated(tripdata$ride_id),]\n",
    "print(paste(\"Removed\", nrow(tripdata) - nrow(tripdata_nd), \"duplicated rows\"))"
   ]
  },
  {
   "cell_type": "markdown",
   "id": "ef16cd16",
   "metadata": {
    "papermill": {
     "duration": 0.01098,
     "end_time": "2022-06-02T11:56:35.335214",
     "exception": false,
     "start_time": "2022-06-02T11:56:35.324234",
     "status": "completed"
    },
    "tags": []
   },
   "source": [
    "**Parse datetime Column**\n",
    "This is because when data is impoerted, the date column is read as an object data type or a character(string) format. Which is why the lubridate library was loaded, so we will be converting our datetime column from a date to a POXIXct. using the as.POSIXct method converts a datetime string into a POXITct class and stores both a data and time with an associated time zone\n",
    "\n",
    "*Reference*: Read this [here](https://www.neonscience.org/resources/learning-hub/tutorials/dc-convert-date-time-posix-r)\n"
   ]
  },
  {
   "cell_type": "code",
   "execution_count": 11,
   "id": "e557370d",
   "metadata": {
    "execution": {
     "iopub.execute_input": "2022-06-02T11:56:35.360541Z",
     "iopub.status.busy": "2022-06-02T11:56:35.358707Z",
     "iopub.status.idle": "2022-06-02T11:56:58.824390Z",
     "shell.execute_reply": "2022-06-02T11:56:58.822667Z"
    },
    "papermill": {
     "duration": 23.481725,
     "end_time": "2022-06-02T11:56:58.827738",
     "exception": false,
     "start_time": "2022-06-02T11:56:35.346013",
     "status": "completed"
    },
    "tags": []
   },
   "outputs": [],
   "source": [
    "#parsing date-time columns\n",
    "tripdata_nd$started_at <- as.POSIXct(tripdata_nd$started_at, \"%Y-%m-%d %H:%M:%S\")\n",
    "tripdata_nd$ended_at <- as.POSIXct(tripdata_nd$ended_at, \"%Y-%m-%d %H:%M:%S\")"
   ]
  },
  {
   "cell_type": "markdown",
   "id": "a09ee5fe",
   "metadata": {
    "papermill": {
     "duration": 0.011098,
     "end_time": "2022-06-02T11:56:58.849537",
     "exception": false,
     "start_time": "2022-06-02T11:56:58.838439",
     "status": "completed"
    },
    "tags": []
   },
   "source": [
    "# Manipulating the Data\n",
    "* Add columns that list the date, month, day and year of each ride \n"
   ]
  },
  {
   "cell_type": "code",
   "execution_count": 12,
   "id": "21b4fa38",
   "metadata": {
    "execution": {
     "iopub.execute_input": "2022-06-02T11:56:58.873845Z",
     "iopub.status.busy": "2022-06-02T11:56:58.872300Z",
     "iopub.status.idle": "2022-06-02T11:57:04.096120Z",
     "shell.execute_reply": "2022-06-02T11:57:04.094373Z"
    },
    "papermill": {
     "duration": 5.238382,
     "end_time": "2022-06-02T11:57:04.098686",
     "exception": false,
     "start_time": "2022-06-02T11:56:58.860304",
     "status": "completed"
    },
    "tags": []
   },
   "outputs": [],
   "source": [
    "# This will allow us to aggregate ride data for each month, day, or year ... before completing these operations we could only aggregate at the ride level\n",
    "\n",
    "tripdata_nd$date <- as.Date(tripdata_nd$started_at) #The default format is yyyy-mm-dd\n",
    "tripdata_nd$month <- format(as.Date(tripdata_nd$date), \"%m\")\n",
    "tripdata_nd$day <- format(as.Date(tripdata_nd$date), \"%d\")\n",
    "tripdata_nd$year <- format(as.Date(tripdata_nd$date), \"%Y\")\n",
    "tripdata_nd$day_of_week <- format(as.Date(tripdata_nd$date), \"%A\")\n"
   ]
  },
  {
   "cell_type": "markdown",
   "id": "97d5788a",
   "metadata": {
    "papermill": {
     "duration": 0.011587,
     "end_time": "2022-06-02T11:57:04.121183",
     "exception": false,
     "start_time": "2022-06-02T11:57:04.109596",
     "status": "completed"
    },
    "tags": []
   },
   "source": [
    "* Add a \"ride_length\" calculation to tripdata_nd (in seconds)\n"
   ]
  },
  {
   "cell_type": "code",
   "execution_count": 13,
   "id": "62147f19",
   "metadata": {
    "execution": {
     "iopub.execute_input": "2022-06-02T11:57:04.145515Z",
     "iopub.status.busy": "2022-06-02T11:57:04.144023Z",
     "iopub.status.idle": "2022-06-02T11:57:04.183579Z",
     "shell.execute_reply": "2022-06-02T11:57:04.181743Z"
    },
    "papermill": {
     "duration": 0.054221,
     "end_time": "2022-06-02T11:57:04.185900",
     "exception": false,
     "start_time": "2022-06-02T11:57:04.131679",
     "status": "completed"
    },
    "tags": []
   },
   "outputs": [],
   "source": [
    "tripdata_nd$ride_length <- difftime(tripdata_nd$ended_at,tripdata_nd$started_at)"
   ]
  },
  {
   "cell_type": "code",
   "execution_count": 14,
   "id": "49929f11",
   "metadata": {
    "execution": {
     "iopub.execute_input": "2022-06-02T11:57:04.210205Z",
     "iopub.status.busy": "2022-06-02T11:57:04.208693Z",
     "iopub.status.idle": "2022-06-02T11:57:04.256541Z",
     "shell.execute_reply": "2022-06-02T11:57:04.254621Z"
    },
    "papermill": {
     "duration": 0.062951,
     "end_time": "2022-06-02T11:57:04.259469",
     "exception": false,
     "start_time": "2022-06-02T11:57:04.196518",
     "status": "completed"
    },
    "tags": []
   },
   "outputs": [
    {
     "name": "stdout",
     "output_type": "stream",
     "text": [
      "'data.frame':\t3489539 obs. of  19 variables:\n",
      " $ ride_id           : chr  \"A847FADBBC638E45\" \"5405B80E996FF60D\" \"5DD24A79A4E006F4\" \"2A59BBDF5CDBA725\" ...\n",
      " $ rideable_type     : chr  \"docked_bike\" \"docked_bike\" \"docked_bike\" \"docked_bike\" ...\n",
      " $ started_at        : POSIXct, format: \"2020-04-26 17:45:14\" \"2020-04-17 17:08:54\" ...\n",
      " $ ended_at          : POSIXct, format: \"2020-04-26 18:12:03\" \"2020-04-17 17:17:03\" ...\n",
      " $ start_station_name: chr  \"Eckhart Park\" \"Drake Ave & Fullerton Ave\" \"McClurg Ct & Erie St\" \"California Ave & Division St\" ...\n",
      " $ start_station_id  : chr  \"86\" \"503\" \"142\" \"216\" ...\n",
      " $ end_station_name  : chr  \"Lincoln Ave & Diversey Pkwy\" \"Kosciuszko Park\" \"Indiana Ave & Roosevelt Rd\" \"Wood St & Augusta Blvd\" ...\n",
      " $ end_station_id    : chr  \"152\" \"499\" \"255\" \"657\" ...\n",
      " $ start_lat         : num  41.9 41.9 41.9 41.9 41.9 ...\n",
      " $ start_lng         : num  -87.7 -87.7 -87.6 -87.7 -87.6 ...\n",
      " $ end_lat           : num  41.9 41.9 41.9 41.9 42 ...\n",
      " $ end_lng           : num  -87.7 -87.7 -87.6 -87.7 -87.7 ...\n",
      " $ member_casual     : chr  \"member\" \"member\" \"member\" \"member\" ...\n",
      " $ date              : Date, format: \"2020-04-26\" \"2020-04-17\" ...\n",
      " $ month             : chr  \"04\" \"04\" \"04\" \"04\" ...\n",
      " $ day               : chr  \"26\" \"17\" \"01\" \"07\" ...\n",
      " $ year              : chr  \"2020\" \"2020\" \"2020\" \"2020\" ...\n",
      " $ day_of_week       : chr  \"Sunday\" \"Friday\" \"Wednesday\" \"Tuesday\" ...\n",
      " $ ride_length       : 'difftime' num  1609 489 863 732 ...\n",
      "  ..- attr(*, \"units\")= chr \"secs\"\n"
     ]
    }
   ],
   "source": [
    "# Inspect the structure of the columns\n",
    "str(tripdata_nd)"
   ]
  },
  {
   "cell_type": "markdown",
   "id": "33c4a0d4",
   "metadata": {
    "papermill": {
     "duration": 0.01042,
     "end_time": "2022-06-02T11:57:04.281218",
     "exception": false,
     "start_time": "2022-06-02T11:57:04.270798",
     "status": "completed"
    },
    "tags": []
   },
   "source": [
    "*  Convert \"ride_length\" from Factor to numeric so we can run calculations on the data\n"
   ]
  },
  {
   "cell_type": "code",
   "execution_count": 15,
   "id": "47e19999",
   "metadata": {
    "execution": {
     "iopub.execute_input": "2022-06-02T11:57:04.305345Z",
     "iopub.status.busy": "2022-06-02T11:57:04.303881Z",
     "iopub.status.idle": "2022-06-02T11:57:08.537305Z",
     "shell.execute_reply": "2022-06-02T11:57:08.535076Z"
    },
    "papermill": {
     "duration": 4.248585,
     "end_time": "2022-06-02T11:57:08.540275",
     "exception": false,
     "start_time": "2022-06-02T11:57:04.291690",
     "status": "completed"
    },
    "tags": []
   },
   "outputs": [
    {
     "data": {
      "text/html": [
       "FALSE"
      ],
      "text/latex": [
       "FALSE"
      ],
      "text/markdown": [
       "FALSE"
      ],
      "text/plain": [
       "[1] FALSE"
      ]
     },
     "metadata": {},
     "output_type": "display_data"
    },
    {
     "data": {
      "text/html": [
       "TRUE"
      ],
      "text/latex": [
       "TRUE"
      ],
      "text/markdown": [
       "TRUE"
      ],
      "text/plain": [
       "[1] TRUE"
      ]
     },
     "metadata": {},
     "output_type": "display_data"
    }
   ],
   "source": [
    "is.factor(tripdata_nd$ride_length)\n",
    "tripdata_nd$ride_length <- as.numeric(as.character(tripdata_nd$ride_length))\n",
    "is.numeric(tripdata_nd$ride_length)\n"
   ]
  },
  {
   "cell_type": "markdown",
   "id": "48778d48",
   "metadata": {
    "papermill": {
     "duration": 0.011031,
     "end_time": "2022-06-02T11:57:08.562485",
     "exception": false,
     "start_time": "2022-06-02T11:57:08.551454",
     "status": "completed"
    },
    "tags": []
   },
   "source": [
    "* Add a \"ride_time_min\" calculation of total time of a bike ride in Minutes"
   ]
  },
  {
   "cell_type": "code",
   "execution_count": 16,
   "id": "b47bb405",
   "metadata": {
    "execution": {
     "iopub.execute_input": "2022-06-02T11:57:08.587450Z",
     "iopub.status.busy": "2022-06-02T11:57:08.585939Z",
     "iopub.status.idle": "2022-06-02T11:57:09.510584Z",
     "shell.execute_reply": "2022-06-02T11:57:09.508789Z"
    },
    "papermill": {
     "duration": 0.939645,
     "end_time": "2022-06-02T11:57:09.513026",
     "exception": false,
     "start_time": "2022-06-02T11:57:08.573381",
     "status": "completed"
    },
    "tags": []
   },
   "outputs": [
    {
     "data": {
      "text/plain": [
       "     Min.   1st Qu.    Median      Mean   3rd Qu.      Max. \n",
       "-29049.97      7.88     14.52     26.48     26.63  58720.03 "
      ]
     },
     "metadata": {},
     "output_type": "display_data"
    }
   ],
   "source": [
    "tripdata_nd <- tripdata_nd %>%\n",
    "    mutate(ride_time_m = as.numeric(tripdata_nd$ended_at - tripdata_nd$started_at) / 60)\n",
    "summary(tripdata_nd$ride_time_m)"
   ]
  },
  {
   "cell_type": "markdown",
   "id": "8e9ee081",
   "metadata": {
    "papermill": {
     "duration": 0.013499,
     "end_time": "2022-06-02T11:57:09.538416",
     "exception": false,
     "start_time": "2022-06-02T11:57:09.524917",
     "status": "completed"
    },
    "tags": []
   },
   "source": [
    "* Add a \"year_month\" this shows the year and month columns together in one column"
   ]
  },
  {
   "cell_type": "code",
   "execution_count": 17,
   "id": "d01b930f",
   "metadata": {
    "execution": {
     "iopub.execute_input": "2022-06-02T11:57:09.564052Z",
     "iopub.status.busy": "2022-06-02T11:57:09.562501Z",
     "iopub.status.idle": "2022-06-02T11:57:16.812383Z",
     "shell.execute_reply": "2022-06-02T11:57:16.810303Z"
    },
    "papermill": {
     "duration": 7.265748,
     "end_time": "2022-06-02T11:57:16.815294",
     "exception": false,
     "start_time": "2022-06-02T11:57:09.549546",
     "status": "completed"
    },
    "tags": []
   },
   "outputs": [
    {
     "data": {
      "text/html": [
       "<style>\n",
       ".list-inline {list-style: none; margin:0; padding: 0}\n",
       ".list-inline>li {display: inline-block}\n",
       ".list-inline>li:not(:last-child)::after {content: \"\\00b7\"; padding: 0 .5ex}\n",
       "</style>\n",
       "<ol class=list-inline><li>'2020 - 04 (Apr)'</li><li>'2020 - 05 (May)'</li><li>'2020 - 06 (Jun)'</li><li>'2020 - 07 (Jul)'</li><li>'2020 - 08 (Aug)'</li><li>'2020 - 09 (Sep)'</li><li>'2020 - 10 (Oct)'</li><li>'2020 - 11 (Nov)'</li><li>'2020 - 12 (Dec)'</li><li>'2021 - 01 (Jan)'</li><li>'2021 - 02 (Feb)'</li><li>'2021 - 03 (Mar)'</li></ol>\n"
      ],
      "text/latex": [
       "\\begin{enumerate*}\n",
       "\\item '2020 - 04 (Apr)'\n",
       "\\item '2020 - 05 (May)'\n",
       "\\item '2020 - 06 (Jun)'\n",
       "\\item '2020 - 07 (Jul)'\n",
       "\\item '2020 - 08 (Aug)'\n",
       "\\item '2020 - 09 (Sep)'\n",
       "\\item '2020 - 10 (Oct)'\n",
       "\\item '2020 - 11 (Nov)'\n",
       "\\item '2020 - 12 (Dec)'\n",
       "\\item '2021 - 01 (Jan)'\n",
       "\\item '2021 - 02 (Feb)'\n",
       "\\item '2021 - 03 (Mar)'\n",
       "\\end{enumerate*}\n"
      ],
      "text/markdown": [
       "1. '2020 - 04 (Apr)'\n",
       "2. '2020 - 05 (May)'\n",
       "3. '2020 - 06 (Jun)'\n",
       "4. '2020 - 07 (Jul)'\n",
       "5. '2020 - 08 (Aug)'\n",
       "6. '2020 - 09 (Sep)'\n",
       "7. '2020 - 10 (Oct)'\n",
       "8. '2020 - 11 (Nov)'\n",
       "9. '2020 - 12 (Dec)'\n",
       "10. '2021 - 01 (Jan)'\n",
       "11. '2021 - 02 (Feb)'\n",
       "12. '2021 - 03 (Mar)'\n",
       "\n",
       "\n"
      ],
      "text/plain": [
       " [1] \"2020 - 04 (Apr)\" \"2020 - 05 (May)\" \"2020 - 06 (Jun)\" \"2020 - 07 (Jul)\"\n",
       " [5] \"2020 - 08 (Aug)\" \"2020 - 09 (Sep)\" \"2020 - 10 (Oct)\" \"2020 - 11 (Nov)\"\n",
       " [9] \"2020 - 12 (Dec)\" \"2021 - 01 (Jan)\" \"2021 - 02 (Feb)\" \"2021 - 03 (Mar)\""
      ]
     },
     "metadata": {},
     "output_type": "display_data"
    }
   ],
   "source": [
    "tripdata_nd <- tripdata_nd %>%\n",
    "    mutate(year_month = paste(strftime(tripdata_nd$started_at, \"%Y\"),\n",
    "                              \"-\",\n",
    "                              strftime(tripdata_nd$started_at, \"%m\"),\n",
    "                              paste(\"(\",strftime(tripdata_nd$started_at, \"%b\"), \")\", sep=\"\")))\n",
    "unique(tripdata_nd$year_month)"
   ]
  },
  {
   "cell_type": "markdown",
   "id": "68028a69",
   "metadata": {
    "papermill": {
     "duration": 0.01087,
     "end_time": "2022-06-02T11:57:16.837387",
     "exception": false,
     "start_time": "2022-06-02T11:57:16.826517",
     "status": "completed"
    },
    "tags": []
   },
   "source": [
    "* Add a \"weekday\" to show weekdays with their number in the days of the week. This will help should we decide to determine the weekly pattern of travel of the riders\n"
   ]
  },
  {
   "cell_type": "code",
   "execution_count": 18,
   "id": "ea953353",
   "metadata": {
    "execution": {
     "iopub.execute_input": "2022-06-02T11:57:16.862475Z",
     "iopub.status.busy": "2022-06-02T11:57:16.860959Z",
     "iopub.status.idle": "2022-06-02T11:57:20.515481Z",
     "shell.execute_reply": "2022-06-02T11:57:20.513412Z"
    },
    "papermill": {
     "duration": 3.6701,
     "end_time": "2022-06-02T11:57:20.518445",
     "exception": false,
     "start_time": "2022-06-02T11:57:16.848345",
     "status": "completed"
    },
    "tags": []
   },
   "outputs": [
    {
     "data": {
      "text/html": [
       "<style>\n",
       ".list-inline {list-style: none; margin:0; padding: 0}\n",
       ".list-inline>li {display: inline-block}\n",
       ".list-inline>li:not(:last-child)::after {content: \"\\00b7\"; padding: 0 .5ex}\n",
       "</style>\n",
       "<ol class=list-inline><li>'7 - Sun'</li><li>'5 - Fri'</li><li>'3 - Wed'</li><li>'2 - Tue'</li><li>'6 - Sat'</li><li>'4 - Thu'</li><li>'1 - Mon'</li></ol>\n"
      ],
      "text/latex": [
       "\\begin{enumerate*}\n",
       "\\item '7 - Sun'\n",
       "\\item '5 - Fri'\n",
       "\\item '3 - Wed'\n",
       "\\item '2 - Tue'\n",
       "\\item '6 - Sat'\n",
       "\\item '4 - Thu'\n",
       "\\item '1 - Mon'\n",
       "\\end{enumerate*}\n"
      ],
      "text/markdown": [
       "1. '7 - Sun'\n",
       "2. '5 - Fri'\n",
       "3. '3 - Wed'\n",
       "4. '2 - Tue'\n",
       "5. '6 - Sat'\n",
       "6. '4 - Thu'\n",
       "7. '1 - Mon'\n",
       "\n",
       "\n"
      ],
      "text/plain": [
       "[1] \"7 - Sun\" \"5 - Fri\" \"3 - Wed\" \"2 - Tue\" \"6 - Sat\" \"4 - Thu\" \"1 - Mon\""
      ]
     },
     "metadata": {},
     "output_type": "display_data"
    }
   ],
   "source": [
    "tripdata_nd <- tripdata_nd %>%\n",
    "    mutate(weekday = paste(strftime(tripdata_nd$ended_at, \"%u\"), \"-\", strftime(tripdata_nd$ended_at, \"%a\")))\n",
    "unique(tripdata_nd$weekday)"
   ]
  },
  {
   "cell_type": "markdown",
   "id": "85a11962",
   "metadata": {
    "papermill": {
     "duration": 0.011035,
     "end_time": "2022-06-02T11:57:20.540611",
     "exception": false,
     "start_time": "2022-06-02T11:57:20.529576",
     "status": "completed"
    },
    "tags": []
   },
   "source": [
    "# Remove \"bad\" data\n",
    "* The dataframe includes a few hundred entries when bikes were taken out of docks and checked for quality by Divvy or ride_length was negative. We will create a new version of the dataframe (v2) since data is being removed\n",
    "\n"
   ]
  },
  {
   "cell_type": "code",
   "execution_count": 19,
   "id": "217388ce",
   "metadata": {
    "execution": {
     "iopub.execute_input": "2022-06-02T11:57:20.566632Z",
     "iopub.status.busy": "2022-06-02T11:57:20.565002Z",
     "iopub.status.idle": "2022-06-02T11:57:22.801369Z",
     "shell.execute_reply": "2022-06-02T11:57:22.799522Z"
    },
    "papermill": {
     "duration": 2.252792,
     "end_time": "2022-06-02T11:57:22.804518",
     "exception": false,
     "start_time": "2022-06-02T11:57:20.551726",
     "status": "completed"
    },
    "tags": []
   },
   "outputs": [],
   "source": [
    "tripdata_nd_v2 <- tripdata_nd[!(tripdata_nd$start_station_name == \"HQ QR\" | tripdata_nd$ride_length<0),]\n"
   ]
  },
  {
   "cell_type": "markdown",
   "id": "c55f0d0a",
   "metadata": {
    "papermill": {
     "duration": 0.011165,
     "end_time": "2022-06-02T11:57:22.826822",
     "exception": false,
     "start_time": "2022-06-02T11:57:22.815657",
     "status": "completed"
    },
    "tags": []
   },
   "source": [
    " **Save the new cleaned data as a .CSV**"
   ]
  },
  {
   "cell_type": "code",
   "execution_count": 20,
   "id": "a2481ad1",
   "metadata": {
    "execution": {
     "iopub.execute_input": "2022-06-02T11:57:22.852296Z",
     "iopub.status.busy": "2022-06-02T11:57:22.850808Z",
     "iopub.status.idle": "2022-06-02T11:59:09.388005Z",
     "shell.execute_reply": "2022-06-02T11:59:09.384629Z"
    },
    "papermill": {
     "duration": 106.555955,
     "end_time": "2022-06-02T11:59:09.394007",
     "exception": false,
     "start_time": "2022-06-02T11:57:22.838052",
     "status": "completed"
    },
    "tags": []
   },
   "outputs": [],
   "source": [
    "tripdata_nd %>%\n",
    "  write.csv(\"tripdata_clean.csv\")"
   ]
  },
  {
   "cell_type": "markdown",
   "id": "e1295cd0",
   "metadata": {
    "papermill": {
     "duration": 0.010805,
     "end_time": "2022-06-02T11:59:09.424320",
     "exception": false,
     "start_time": "2022-06-02T11:59:09.413515",
     "status": "completed"
    },
    "tags": []
   },
   "source": [
    "# Analye\n",
    "**Conduct a Descriptive analysis**\n",
    "* **Descriptive analysis on ride_length(all figures in seconds)**\n"
   ]
  },
  {
   "cell_type": "code",
   "execution_count": 21,
   "id": "8c8455c0",
   "metadata": {
    "execution": {
     "iopub.execute_input": "2022-06-02T11:59:09.450973Z",
     "iopub.status.busy": "2022-06-02T11:59:09.448924Z",
     "iopub.status.idle": "2022-06-02T11:59:09.705836Z",
     "shell.execute_reply": "2022-06-02T11:59:09.703937Z"
    },
    "papermill": {
     "duration": 0.272952,
     "end_time": "2022-06-02T11:59:09.708153",
     "exception": false,
     "start_time": "2022-06-02T11:59:09.435201",
     "status": "completed"
    },
    "tags": []
   },
   "outputs": [
    {
     "data": {
      "text/html": [
       "1677.04931656623"
      ],
      "text/latex": [
       "1677.04931656623"
      ],
      "text/markdown": [
       "1677.04931656623"
      ],
      "text/plain": [
       "[1] 1677.049"
      ]
     },
     "metadata": {},
     "output_type": "display_data"
    },
    {
     "data": {
      "text/html": [
       "874"
      ],
      "text/latex": [
       "874"
      ],
      "text/markdown": [
       "874"
      ],
      "text/plain": [
       "[1] 874"
      ]
     },
     "metadata": {},
     "output_type": "display_data"
    },
    {
     "data": {
      "text/html": [
       "3523202"
      ],
      "text/latex": [
       "3523202"
      ],
      "text/markdown": [
       "3523202"
      ],
      "text/plain": [
       "[1] 3523202"
      ]
     },
     "metadata": {},
     "output_type": "display_data"
    },
    {
     "data": {
      "text/html": [
       "0"
      ],
      "text/latex": [
       "0"
      ],
      "text/markdown": [
       "0"
      ],
      "text/plain": [
       "[1] 0"
      ]
     },
     "metadata": {},
     "output_type": "display_data"
    }
   ],
   "source": [
    "mean(tripdata_nd_v2$ride_length) #straight average (total ride length / rides)\n",
    "median(tripdata_nd_v2$ride_length) #midpoint number in the ascending array of ride lengths\n",
    "max(tripdata_nd_v2$ride_length) #longest ride\n",
    "min(tripdata_nd_v2$ride_length) #shortest ride\n"
   ]
  },
  {
   "cell_type": "code",
   "execution_count": 22,
   "id": "23c7c03d",
   "metadata": {
    "execution": {
     "iopub.execute_input": "2022-06-02T11:59:09.735231Z",
     "iopub.status.busy": "2022-06-02T11:59:09.733141Z",
     "iopub.status.idle": "2022-06-02T11:59:15.108695Z",
     "shell.execute_reply": "2022-06-02T11:59:15.106405Z"
    },
    "papermill": {
     "duration": 5.391563,
     "end_time": "2022-06-02T11:59:15.111450",
     "exception": false,
     "start_time": "2022-06-02T11:59:09.719887",
     "status": "completed"
    },
    "tags": []
   },
   "outputs": [
    {
     "data": {
      "text/plain": [
       "   Min. 1st Qu.  Median    Mean 3rd Qu.    Max. \n",
       "      0     476     874    1677    1601 3523202 "
      ]
     },
     "metadata": {},
     "output_type": "display_data"
    }
   ],
   "source": [
    "#the four lines above can be condensed to one line using summary()\n",
    "summary(tripdata_nd_v2$ride_length)"
   ]
  },
  {
   "cell_type": "code",
   "execution_count": 23,
   "id": "1d7d0d93",
   "metadata": {
    "execution": {
     "iopub.execute_input": "2022-06-02T11:59:15.244820Z",
     "iopub.status.busy": "2022-06-02T11:59:15.243141Z",
     "iopub.status.idle": "2022-06-02T11:59:16.980912Z",
     "shell.execute_reply": "2022-06-02T11:59:16.979183Z"
    },
    "papermill": {
     "duration": 1.857195,
     "end_time": "2022-06-02T11:59:16.983225",
     "exception": false,
     "start_time": "2022-06-02T11:59:15.126030",
     "status": "completed"
    },
    "tags": []
   },
   "outputs": [
    {
     "data": {
      "text/plain": [
       "   ride_id          rideable_type        started_at                 \n",
       " Length:3479196     Length:3479196     Min.   :2020-04-01 00:00:30  \n",
       " Class :character   Class :character   1st Qu.:2020-07-14 18:48:36  \n",
       " Mode  :character   Mode  :character   Median :2020-08-29 14:36:43  \n",
       "                                       Mean   :2020-09-10 01:41:08  \n",
       "                                       3rd Qu.:2020-10-20 20:26:31  \n",
       "                                       Max.   :2021-03-31 23:59:08  \n",
       "                                                                    \n",
       "    ended_at                   start_station_name start_station_id  \n",
       " Min.   :2020-04-01 00:10:45   Length:3479196     Length:3479196    \n",
       " 1st Qu.:2020-07-14 19:20:26   Class :character   Class :character  \n",
       " Median :2020-08-29 15:09:12   Mode  :character   Mode  :character  \n",
       " Mean   :2020-09-10 02:09:05                                        \n",
       " 3rd Qu.:2020-10-20 20:42:57                                        \n",
       " Max.   :2021-04-06 11:00:11                                        \n",
       "                                                                    \n",
       " end_station_name   end_station_id       start_lat       start_lng     \n",
       " Length:3479196     Length:3479196     Min.   :41.64   Min.   :-87.87  \n",
       " Class :character   Class :character   1st Qu.:41.88   1st Qu.:-87.66  \n",
       " Mode  :character   Mode  :character   Median :41.90   Median :-87.64  \n",
       "                                       Mean   :41.90   Mean   :-87.64  \n",
       "                                       3rd Qu.:41.93   3rd Qu.:-87.63  \n",
       "                                       Max.   :42.08   Max.   :-87.52  \n",
       "                                                                       \n",
       "    end_lat         end_lng       member_casual           date           \n",
       " Min.   :41.54   Min.   :-88.07   Length:3479196     Min.   :2020-04-01  \n",
       " 1st Qu.:41.88   1st Qu.:-87.66   Class :character   1st Qu.:2020-07-14  \n",
       " Median :41.90   Median :-87.64   Mode  :character   Median :2020-08-29  \n",
       " Mean   :41.90   Mean   :-87.64                      Mean   :2020-09-09  \n",
       " 3rd Qu.:41.93   3rd Qu.:-87.63                      3rd Qu.:2020-10-20  \n",
       " Max.   :42.16   Max.   :-87.44                      Max.   :2021-03-31  \n",
       " NA's   :4712    NA's   :4712                                            \n",
       "    month               day                year           day_of_week       \n",
       " Length:3479196     Length:3479196     Length:3479196     Length:3479196    \n",
       " Class :character   Class :character   Class :character   Class :character  \n",
       " Mode  :character   Mode  :character   Mode  :character   Mode  :character  \n",
       "                                                                            \n",
       "                                                                            \n",
       "                                                                            \n",
       "                                                                            \n",
       "  ride_length       ride_time_m        year_month          weekday         \n",
       " Min.   :      0   Min.   :    0.00   Length:3479196     Length:3479196    \n",
       " 1st Qu.:    476   1st Qu.:    7.93   Class :character   Class :character  \n",
       " Median :    874   Median :   14.57   Mode  :character   Mode  :character  \n",
       " Mean   :   1677   Mean   :   27.95                                        \n",
       " 3rd Qu.:   1601   3rd Qu.:   26.68                                        \n",
       " Max.   :3523202   Max.   :58720.03                                        \n",
       "                                                                           "
      ]
     },
     "metadata": {},
     "output_type": "display_data"
    }
   ],
   "source": [
    "#for a refresher let us see an overview of our v2 dataset\n",
    "summary(tripdata_nd_v2)"
   ]
  },
  {
   "cell_type": "markdown",
   "id": "4e39fa86",
   "metadata": {
    "papermill": {
     "duration": 0.011754,
     "end_time": "2022-06-02T11:59:17.006780",
     "exception": false,
     "start_time": "2022-06-02T11:59:16.995026",
     "status": "completed"
    },
    "tags": []
   },
   "source": [
    "* **Compare members and casual users**\n"
   ]
  },
  {
   "cell_type": "code",
   "execution_count": 24,
   "id": "029ec394",
   "metadata": {
    "execution": {
     "iopub.execute_input": "2022-06-02T11:59:17.035290Z",
     "iopub.status.busy": "2022-06-02T11:59:17.033755Z",
     "iopub.status.idle": "2022-06-02T11:59:26.229816Z",
     "shell.execute_reply": "2022-06-02T11:59:26.227720Z"
    },
    "papermill": {
     "duration": 9.213626,
     "end_time": "2022-06-02T11:59:26.233256",
     "exception": false,
     "start_time": "2022-06-02T11:59:17.019630",
     "status": "completed"
    },
    "tags": []
   },
   "outputs": [
    {
     "data": {
      "text/html": [
       "<table class=\"dataframe\">\n",
       "<caption>A data.frame: 2 × 2</caption>\n",
       "<thead>\n",
       "\t<tr><th scope=col>tripdata_nd_v2$member_casual</th><th scope=col>tripdata_nd_v2$ride_length</th></tr>\n",
       "\t<tr><th scope=col>&lt;chr&gt;</th><th scope=col>&lt;dbl&gt;</th></tr>\n",
       "</thead>\n",
       "<tbody>\n",
       "\t<tr><td>casual</td><td>2698.1722</td></tr>\n",
       "\t<tr><td>member</td><td> 966.9067</td></tr>\n",
       "</tbody>\n",
       "</table>\n"
      ],
      "text/latex": [
       "A data.frame: 2 × 2\n",
       "\\begin{tabular}{ll}\n",
       " tripdata\\_nd\\_v2\\$member\\_casual & tripdata\\_nd\\_v2\\$ride\\_length\\\\\n",
       " <chr> & <dbl>\\\\\n",
       "\\hline\n",
       "\t casual & 2698.1722\\\\\n",
       "\t member &  966.9067\\\\\n",
       "\\end{tabular}\n"
      ],
      "text/markdown": [
       "\n",
       "A data.frame: 2 × 2\n",
       "\n",
       "| tripdata_nd_v2$member_casual &lt;chr&gt; | tripdata_nd_v2$ride_length &lt;dbl&gt; |\n",
       "|---|---|\n",
       "| casual | 2698.1722 |\n",
       "| member |  966.9067 |\n",
       "\n"
      ],
      "text/plain": [
       "  tripdata_nd_v2$member_casual tripdata_nd_v2$ride_length\n",
       "1 casual                       2698.1722                 \n",
       "2 member                        966.9067                 "
      ]
     },
     "metadata": {},
     "output_type": "display_data"
    },
    {
     "data": {
      "text/html": [
       "<table class=\"dataframe\">\n",
       "<caption>A data.frame: 2 × 2</caption>\n",
       "<thead>\n",
       "\t<tr><th scope=col>tripdata_nd_v2$member_casual</th><th scope=col>tripdata_nd_v2$ride_length</th></tr>\n",
       "\t<tr><th scope=col>&lt;chr&gt;</th><th scope=col>&lt;dbl&gt;</th></tr>\n",
       "</thead>\n",
       "<tbody>\n",
       "\t<tr><td>casual</td><td>1272</td></tr>\n",
       "\t<tr><td>member</td><td> 689</td></tr>\n",
       "</tbody>\n",
       "</table>\n"
      ],
      "text/latex": [
       "A data.frame: 2 × 2\n",
       "\\begin{tabular}{ll}\n",
       " tripdata\\_nd\\_v2\\$member\\_casual & tripdata\\_nd\\_v2\\$ride\\_length\\\\\n",
       " <chr> & <dbl>\\\\\n",
       "\\hline\n",
       "\t casual & 1272\\\\\n",
       "\t member &  689\\\\\n",
       "\\end{tabular}\n"
      ],
      "text/markdown": [
       "\n",
       "A data.frame: 2 × 2\n",
       "\n",
       "| tripdata_nd_v2$member_casual &lt;chr&gt; | tripdata_nd_v2$ride_length &lt;dbl&gt; |\n",
       "|---|---|\n",
       "| casual | 1272 |\n",
       "| member |  689 |\n",
       "\n"
      ],
      "text/plain": [
       "  tripdata_nd_v2$member_casual tripdata_nd_v2$ride_length\n",
       "1 casual                       1272                      \n",
       "2 member                        689                      "
      ]
     },
     "metadata": {},
     "output_type": "display_data"
    },
    {
     "data": {
      "text/html": [
       "<table class=\"dataframe\">\n",
       "<caption>A data.frame: 2 × 2</caption>\n",
       "<thead>\n",
       "\t<tr><th scope=col>tripdata_nd_v2$member_casual</th><th scope=col>tripdata_nd_v2$ride_length</th></tr>\n",
       "\t<tr><th scope=col>&lt;chr&gt;</th><th scope=col>&lt;dbl&gt;</th></tr>\n",
       "</thead>\n",
       "<tbody>\n",
       "\t<tr><td>casual</td><td>3341033</td></tr>\n",
       "\t<tr><td>member</td><td>3523202</td></tr>\n",
       "</tbody>\n",
       "</table>\n"
      ],
      "text/latex": [
       "A data.frame: 2 × 2\n",
       "\\begin{tabular}{ll}\n",
       " tripdata\\_nd\\_v2\\$member\\_casual & tripdata\\_nd\\_v2\\$ride\\_length\\\\\n",
       " <chr> & <dbl>\\\\\n",
       "\\hline\n",
       "\t casual & 3341033\\\\\n",
       "\t member & 3523202\\\\\n",
       "\\end{tabular}\n"
      ],
      "text/markdown": [
       "\n",
       "A data.frame: 2 × 2\n",
       "\n",
       "| tripdata_nd_v2$member_casual &lt;chr&gt; | tripdata_nd_v2$ride_length &lt;dbl&gt; |\n",
       "|---|---|\n",
       "| casual | 3341033 |\n",
       "| member | 3523202 |\n",
       "\n"
      ],
      "text/plain": [
       "  tripdata_nd_v2$member_casual tripdata_nd_v2$ride_length\n",
       "1 casual                       3341033                   \n",
       "2 member                       3523202                   "
      ]
     },
     "metadata": {},
     "output_type": "display_data"
    },
    {
     "data": {
      "text/html": [
       "<table class=\"dataframe\">\n",
       "<caption>A data.frame: 2 × 2</caption>\n",
       "<thead>\n",
       "\t<tr><th scope=col>tripdata_nd_v2$member_casual</th><th scope=col>tripdata_nd_v2$ride_length</th></tr>\n",
       "\t<tr><th scope=col>&lt;chr&gt;</th><th scope=col>&lt;dbl&gt;</th></tr>\n",
       "</thead>\n",
       "<tbody>\n",
       "\t<tr><td>casual</td><td>0</td></tr>\n",
       "\t<tr><td>member</td><td>0</td></tr>\n",
       "</tbody>\n",
       "</table>\n"
      ],
      "text/latex": [
       "A data.frame: 2 × 2\n",
       "\\begin{tabular}{ll}\n",
       " tripdata\\_nd\\_v2\\$member\\_casual & tripdata\\_nd\\_v2\\$ride\\_length\\\\\n",
       " <chr> & <dbl>\\\\\n",
       "\\hline\n",
       "\t casual & 0\\\\\n",
       "\t member & 0\\\\\n",
       "\\end{tabular}\n"
      ],
      "text/markdown": [
       "\n",
       "A data.frame: 2 × 2\n",
       "\n",
       "| tripdata_nd_v2$member_casual &lt;chr&gt; | tripdata_nd_v2$ride_length &lt;dbl&gt; |\n",
       "|---|---|\n",
       "| casual | 0 |\n",
       "| member | 0 |\n",
       "\n"
      ],
      "text/plain": [
       "  tripdata_nd_v2$member_casual tripdata_nd_v2$ride_length\n",
       "1 casual                       0                         \n",
       "2 member                       0                         "
      ]
     },
     "metadata": {},
     "output_type": "display_data"
    }
   ],
   "source": [
    "aggregate(tripdata_nd_v2$ride_length ~ tripdata_nd_v2$member_casual, FUN = mean)\n",
    "aggregate(tripdata_nd_v2$ride_length ~ tripdata_nd_v2$member_casual, FUN = median)\n",
    "aggregate(tripdata_nd_v2$ride_length ~ tripdata_nd_v2$member_casual, FUN = max)\n",
    "aggregate(tripdata_nd_v2$ride_length ~ tripdata_nd_v2$member_casual, FUN = min)\n"
   ]
  },
  {
   "cell_type": "markdown",
   "id": "4a6eb481",
   "metadata": {
    "papermill": {
     "duration": 0.012635,
     "end_time": "2022-06-02T11:59:26.259061",
     "exception": false,
     "start_time": "2022-06-02T11:59:26.246426",
     "status": "completed"
    },
    "tags": []
   },
   "source": [
    "**Data Distribution**\n",
    "**Casual vs Members**\n",
    "* counting the percentage of the data that is about members and about cauals"
   ]
  },
  {
   "cell_type": "code",
   "execution_count": 25,
   "id": "5bec4ab6",
   "metadata": {
    "execution": {
     "iopub.execute_input": "2022-06-02T11:59:26.286851Z",
     "iopub.status.busy": "2022-06-02T11:59:26.285347Z",
     "iopub.status.idle": "2022-06-02T11:59:26.516575Z",
     "shell.execute_reply": "2022-06-02T11:59:26.514886Z"
    },
    "papermill": {
     "duration": 0.247463,
     "end_time": "2022-06-02T11:59:26.518934",
     "exception": false,
     "start_time": "2022-06-02T11:59:26.271471",
     "status": "completed"
    },
    "tags": []
   },
   "outputs": [
    {
     "data": {
      "text/html": [
       "<table class=\"dataframe\">\n",
       "<caption>A tibble: 2 × 3</caption>\n",
       "<thead>\n",
       "\t<tr><th scope=col>member_casual</th><th scope=col>count</th><th scope=col>%</th></tr>\n",
       "\t<tr><th scope=col>&lt;chr&gt;</th><th scope=col>&lt;int&gt;</th><th scope=col>&lt;dbl&gt;</th></tr>\n",
       "</thead>\n",
       "<tbody>\n",
       "\t<tr><td>casual</td><td>1427121</td><td>41.0187</td></tr>\n",
       "\t<tr><td>member</td><td>2052075</td><td>58.9813</td></tr>\n",
       "</tbody>\n",
       "</table>\n"
      ],
      "text/latex": [
       "A tibble: 2 × 3\n",
       "\\begin{tabular}{lll}\n",
       " member\\_casual & count & \\%\\\\\n",
       " <chr> & <int> & <dbl>\\\\\n",
       "\\hline\n",
       "\t casual & 1427121 & 41.0187\\\\\n",
       "\t member & 2052075 & 58.9813\\\\\n",
       "\\end{tabular}\n"
      ],
      "text/markdown": [
       "\n",
       "A tibble: 2 × 3\n",
       "\n",
       "| member_casual &lt;chr&gt; | count &lt;int&gt; | % &lt;dbl&gt; |\n",
       "|---|---|---|\n",
       "| casual | 1427121 | 41.0187 |\n",
       "| member | 2052075 | 58.9813 |\n",
       "\n"
      ],
      "text/plain": [
       "  member_casual count   %      \n",
       "1 casual        1427121 41.0187\n",
       "2 member        2052075 58.9813"
      ]
     },
     "metadata": {},
     "output_type": "display_data"
    }
   ],
   "source": [
    "tripdata_nd_v2 %>% \n",
    "    group_by(member_casual) %>% \n",
    "    summarise(count = length(ride_id),\n",
    "              '%' = (length(ride_id) / nrow(tripdata_nd_v2)) * 100)"
   ]
  },
  {
   "cell_type": "markdown",
   "id": "47950f71",
   "metadata": {
    "papermill": {
     "duration": 0.012826,
     "end_time": "2022-06-02T11:59:26.544705",
     "exception": false,
     "start_time": "2022-06-02T11:59:26.531879",
     "status": "completed"
    },
    "tags": []
   },
   "source": [
    "*** The average ride time by each day for members vs casual users**"
   ]
  },
  {
   "cell_type": "code",
   "execution_count": 26,
   "id": "1bb72098",
   "metadata": {
    "execution": {
     "iopub.execute_input": "2022-06-02T11:59:26.574219Z",
     "iopub.status.busy": "2022-06-02T11:59:26.572719Z",
     "iopub.status.idle": "2022-06-02T11:59:30.325208Z",
     "shell.execute_reply": "2022-06-02T11:59:30.323606Z"
    },
    "papermill": {
     "duration": 3.770087,
     "end_time": "2022-06-02T11:59:30.327589",
     "exception": false,
     "start_time": "2022-06-02T11:59:26.557502",
     "status": "completed"
    },
    "tags": []
   },
   "outputs": [
    {
     "data": {
      "text/html": [
       "<table class=\"dataframe\">\n",
       "<caption>A data.frame: 14 × 3</caption>\n",
       "<thead>\n",
       "\t<tr><th scope=col>tripdata_nd_v2$member_casual</th><th scope=col>tripdata_nd_v2$day_of_week</th><th scope=col>tripdata_nd_v2$ride_length</th></tr>\n",
       "\t<tr><th scope=col>&lt;chr&gt;</th><th scope=col>&lt;chr&gt;</th><th scope=col>&lt;dbl&gt;</th></tr>\n",
       "</thead>\n",
       "<tbody>\n",
       "\t<tr><td>casual</td><td>Friday   </td><td>2566.0303</td></tr>\n",
       "\t<tr><td>member</td><td>Friday   </td><td> 948.1130</td></tr>\n",
       "\t<tr><td>casual</td><td>Monday   </td><td>2698.5630</td></tr>\n",
       "\t<tr><td>member</td><td>Monday   </td><td> 920.2266</td></tr>\n",
       "\t<tr><td>casual</td><td>Saturday </td><td>2817.3583</td></tr>\n",
       "\t<tr><td>member</td><td>Saturday </td><td>1067.6161</td></tr>\n",
       "\t<tr><td>casual</td><td>Sunday   </td><td>3044.5856</td></tr>\n",
       "\t<tr><td>member</td><td>Sunday   </td><td>1093.0548</td></tr>\n",
       "\t<tr><td>casual</td><td>Thursday </td><td>2578.1268</td></tr>\n",
       "\t<tr><td>member</td><td>Thursday </td><td> 912.5715</td></tr>\n",
       "\t<tr><td>casual</td><td>Tuesday  </td><td>2429.2405</td></tr>\n",
       "\t<tr><td>member</td><td>Tuesday  </td><td> 907.8393</td></tr>\n",
       "\t<tr><td>casual</td><td>Wednesday</td><td>2418.8408</td></tr>\n",
       "\t<tr><td>member</td><td>Wednesday</td><td> 918.8948</td></tr>\n",
       "</tbody>\n",
       "</table>\n"
      ],
      "text/latex": [
       "A data.frame: 14 × 3\n",
       "\\begin{tabular}{lll}\n",
       " tripdata\\_nd\\_v2\\$member\\_casual & tripdata\\_nd\\_v2\\$day\\_of\\_week & tripdata\\_nd\\_v2\\$ride\\_length\\\\\n",
       " <chr> & <chr> & <dbl>\\\\\n",
       "\\hline\n",
       "\t casual & Friday    & 2566.0303\\\\\n",
       "\t member & Friday    &  948.1130\\\\\n",
       "\t casual & Monday    & 2698.5630\\\\\n",
       "\t member & Monday    &  920.2266\\\\\n",
       "\t casual & Saturday  & 2817.3583\\\\\n",
       "\t member & Saturday  & 1067.6161\\\\\n",
       "\t casual & Sunday    & 3044.5856\\\\\n",
       "\t member & Sunday    & 1093.0548\\\\\n",
       "\t casual & Thursday  & 2578.1268\\\\\n",
       "\t member & Thursday  &  912.5715\\\\\n",
       "\t casual & Tuesday   & 2429.2405\\\\\n",
       "\t member & Tuesday   &  907.8393\\\\\n",
       "\t casual & Wednesday & 2418.8408\\\\\n",
       "\t member & Wednesday &  918.8948\\\\\n",
       "\\end{tabular}\n"
      ],
      "text/markdown": [
       "\n",
       "A data.frame: 14 × 3\n",
       "\n",
       "| tripdata_nd_v2$member_casual &lt;chr&gt; | tripdata_nd_v2$day_of_week &lt;chr&gt; | tripdata_nd_v2$ride_length &lt;dbl&gt; |\n",
       "|---|---|---|\n",
       "| casual | Friday    | 2566.0303 |\n",
       "| member | Friday    |  948.1130 |\n",
       "| casual | Monday    | 2698.5630 |\n",
       "| member | Monday    |  920.2266 |\n",
       "| casual | Saturday  | 2817.3583 |\n",
       "| member | Saturday  | 1067.6161 |\n",
       "| casual | Sunday    | 3044.5856 |\n",
       "| member | Sunday    | 1093.0548 |\n",
       "| casual | Thursday  | 2578.1268 |\n",
       "| member | Thursday  |  912.5715 |\n",
       "| casual | Tuesday   | 2429.2405 |\n",
       "| member | Tuesday   |  907.8393 |\n",
       "| casual | Wednesday | 2418.8408 |\n",
       "| member | Wednesday |  918.8948 |\n",
       "\n"
      ],
      "text/plain": [
       "   tripdata_nd_v2$member_casual tripdata_nd_v2$day_of_week\n",
       "1  casual                       Friday                    \n",
       "2  member                       Friday                    \n",
       "3  casual                       Monday                    \n",
       "4  member                       Monday                    \n",
       "5  casual                       Saturday                  \n",
       "6  member                       Saturday                  \n",
       "7  casual                       Sunday                    \n",
       "8  member                       Sunday                    \n",
       "9  casual                       Thursday                  \n",
       "10 member                       Thursday                  \n",
       "11 casual                       Tuesday                   \n",
       "12 member                       Tuesday                   \n",
       "13 casual                       Wednesday                 \n",
       "14 member                       Wednesday                 \n",
       "   tripdata_nd_v2$ride_length\n",
       "1  2566.0303                 \n",
       "2   948.1130                 \n",
       "3  2698.5630                 \n",
       "4   920.2266                 \n",
       "5  2817.3583                 \n",
       "6  1067.6161                 \n",
       "7  3044.5856                 \n",
       "8  1093.0548                 \n",
       "9  2578.1268                 \n",
       "10  912.5715                 \n",
       "11 2429.2405                 \n",
       "12  907.8393                 \n",
       "13 2418.8408                 \n",
       "14  918.8948                 "
      ]
     },
     "metadata": {},
     "output_type": "display_data"
    }
   ],
   "source": [
    "aggregate(tripdata_nd_v2$ride_length ~ tripdata_nd_v2$member_casual + tripdata_nd_v2$day_of_week, FUN = mean)"
   ]
  },
  {
   "cell_type": "markdown",
   "id": "a20d394c",
   "metadata": {
    "papermill": {
     "duration": 0.012941,
     "end_time": "2022-06-02T11:59:30.353351",
     "exception": false,
     "start_time": "2022-06-02T11:59:30.340410",
     "status": "completed"
    },
    "tags": []
   },
   "source": [
    "* **Fix the days of the week above that are out of order**"
   ]
  },
  {
   "cell_type": "code",
   "execution_count": 27,
   "id": "190725bf",
   "metadata": {
    "execution": {
     "iopub.execute_input": "2022-06-02T11:59:30.383063Z",
     "iopub.status.busy": "2022-06-02T11:59:30.381447Z",
     "iopub.status.idle": "2022-06-02T11:59:30.462740Z",
     "shell.execute_reply": "2022-06-02T11:59:30.460770Z"
    },
    "papermill": {
     "duration": 0.098191,
     "end_time": "2022-06-02T11:59:30.464978",
     "exception": false,
     "start_time": "2022-06-02T11:59:30.366787",
     "status": "completed"
    },
    "tags": []
   },
   "outputs": [],
   "source": [
    "tripdata_nd_v2$day_of_week <- ordered(tripdata_nd_v2$day_of_week, levels=c(\"Sunday\", \"Monday\", \"Tuesday\", \"Wednesday\", \"Thursday\", \"Friday\", \"Saturday\"))\n"
   ]
  },
  {
   "cell_type": "markdown",
   "id": "890b77bd",
   "metadata": {
    "papermill": {
     "duration": 0.014004,
     "end_time": "2022-06-02T11:59:30.491706",
     "exception": false,
     "start_time": "2022-06-02T11:59:30.477702",
     "status": "completed"
    },
    "tags": []
   },
   "source": [
    "* **Run the average ride time by each day for members vs casual users**"
   ]
  },
  {
   "cell_type": "code",
   "execution_count": 28,
   "id": "c567d505",
   "metadata": {
    "execution": {
     "iopub.execute_input": "2022-06-02T11:59:30.520533Z",
     "iopub.status.busy": "2022-06-02T11:59:30.518849Z",
     "iopub.status.idle": "2022-06-02T11:59:33.207580Z",
     "shell.execute_reply": "2022-06-02T11:59:33.205874Z"
    },
    "papermill": {
     "duration": 2.705642,
     "end_time": "2022-06-02T11:59:33.210065",
     "exception": false,
     "start_time": "2022-06-02T11:59:30.504423",
     "status": "completed"
    },
    "tags": []
   },
   "outputs": [
    {
     "data": {
      "text/html": [
       "<table class=\"dataframe\">\n",
       "<caption>A data.frame: 14 × 3</caption>\n",
       "<thead>\n",
       "\t<tr><th scope=col>tripdata_nd_v2$member_casual</th><th scope=col>tripdata_nd_v2$day_of_week</th><th scope=col>tripdata_nd_v2$ride_length</th></tr>\n",
       "\t<tr><th scope=col>&lt;chr&gt;</th><th scope=col>&lt;ord&gt;</th><th scope=col>&lt;dbl&gt;</th></tr>\n",
       "</thead>\n",
       "<tbody>\n",
       "\t<tr><td>casual</td><td>Sunday   </td><td>3044.5856</td></tr>\n",
       "\t<tr><td>member</td><td>Sunday   </td><td>1093.0548</td></tr>\n",
       "\t<tr><td>casual</td><td>Monday   </td><td>2698.5630</td></tr>\n",
       "\t<tr><td>member</td><td>Monday   </td><td> 920.2266</td></tr>\n",
       "\t<tr><td>casual</td><td>Tuesday  </td><td>2429.2405</td></tr>\n",
       "\t<tr><td>member</td><td>Tuesday  </td><td> 907.8393</td></tr>\n",
       "\t<tr><td>casual</td><td>Wednesday</td><td>2418.8408</td></tr>\n",
       "\t<tr><td>member</td><td>Wednesday</td><td> 918.8948</td></tr>\n",
       "\t<tr><td>casual</td><td>Thursday </td><td>2578.1268</td></tr>\n",
       "\t<tr><td>member</td><td>Thursday </td><td> 912.5715</td></tr>\n",
       "\t<tr><td>casual</td><td>Friday   </td><td>2566.0303</td></tr>\n",
       "\t<tr><td>member</td><td>Friday   </td><td> 948.1130</td></tr>\n",
       "\t<tr><td>casual</td><td>Saturday </td><td>2817.3583</td></tr>\n",
       "\t<tr><td>member</td><td>Saturday </td><td>1067.6161</td></tr>\n",
       "</tbody>\n",
       "</table>\n"
      ],
      "text/latex": [
       "A data.frame: 14 × 3\n",
       "\\begin{tabular}{lll}\n",
       " tripdata\\_nd\\_v2\\$member\\_casual & tripdata\\_nd\\_v2\\$day\\_of\\_week & tripdata\\_nd\\_v2\\$ride\\_length\\\\\n",
       " <chr> & <ord> & <dbl>\\\\\n",
       "\\hline\n",
       "\t casual & Sunday    & 3044.5856\\\\\n",
       "\t member & Sunday    & 1093.0548\\\\\n",
       "\t casual & Monday    & 2698.5630\\\\\n",
       "\t member & Monday    &  920.2266\\\\\n",
       "\t casual & Tuesday   & 2429.2405\\\\\n",
       "\t member & Tuesday   &  907.8393\\\\\n",
       "\t casual & Wednesday & 2418.8408\\\\\n",
       "\t member & Wednesday &  918.8948\\\\\n",
       "\t casual & Thursday  & 2578.1268\\\\\n",
       "\t member & Thursday  &  912.5715\\\\\n",
       "\t casual & Friday    & 2566.0303\\\\\n",
       "\t member & Friday    &  948.1130\\\\\n",
       "\t casual & Saturday  & 2817.3583\\\\\n",
       "\t member & Saturday  & 1067.6161\\\\\n",
       "\\end{tabular}\n"
      ],
      "text/markdown": [
       "\n",
       "A data.frame: 14 × 3\n",
       "\n",
       "| tripdata_nd_v2$member_casual &lt;chr&gt; | tripdata_nd_v2$day_of_week &lt;ord&gt; | tripdata_nd_v2$ride_length &lt;dbl&gt; |\n",
       "|---|---|---|\n",
       "| casual | Sunday    | 3044.5856 |\n",
       "| member | Sunday    | 1093.0548 |\n",
       "| casual | Monday    | 2698.5630 |\n",
       "| member | Monday    |  920.2266 |\n",
       "| casual | Tuesday   | 2429.2405 |\n",
       "| member | Tuesday   |  907.8393 |\n",
       "| casual | Wednesday | 2418.8408 |\n",
       "| member | Wednesday |  918.8948 |\n",
       "| casual | Thursday  | 2578.1268 |\n",
       "| member | Thursday  |  912.5715 |\n",
       "| casual | Friday    | 2566.0303 |\n",
       "| member | Friday    |  948.1130 |\n",
       "| casual | Saturday  | 2817.3583 |\n",
       "| member | Saturday  | 1067.6161 |\n",
       "\n"
      ],
      "text/plain": [
       "   tripdata_nd_v2$member_casual tripdata_nd_v2$day_of_week\n",
       "1  casual                       Sunday                    \n",
       "2  member                       Sunday                    \n",
       "3  casual                       Monday                    \n",
       "4  member                       Monday                    \n",
       "5  casual                       Tuesday                   \n",
       "6  member                       Tuesday                   \n",
       "7  casual                       Wednesday                 \n",
       "8  member                       Wednesday                 \n",
       "9  casual                       Thursday                  \n",
       "10 member                       Thursday                  \n",
       "11 casual                       Friday                    \n",
       "12 member                       Friday                    \n",
       "13 casual                       Saturday                  \n",
       "14 member                       Saturday                  \n",
       "   tripdata_nd_v2$ride_length\n",
       "1  3044.5856                 \n",
       "2  1093.0548                 \n",
       "3  2698.5630                 \n",
       "4   920.2266                 \n",
       "5  2429.2405                 \n",
       "6   907.8393                 \n",
       "7  2418.8408                 \n",
       "8   918.8948                 \n",
       "9  2578.1268                 \n",
       "10  912.5715                 \n",
       "11 2566.0303                 \n",
       "12  948.1130                 \n",
       "13 2817.3583                 \n",
       "14 1067.6161                 "
      ]
     },
     "metadata": {},
     "output_type": "display_data"
    }
   ],
   "source": [
    "aggregate(tripdata_nd_v2$ride_length ~ tripdata_nd_v2$member_casual + tripdata_nd_v2$day_of_week, FUN = mean)\n"
   ]
  },
  {
   "cell_type": "markdown",
   "id": "56ba38ca",
   "metadata": {
    "papermill": {
     "duration": 0.012902,
     "end_time": "2022-06-02T11:59:33.236637",
     "exception": false,
     "start_time": "2022-06-02T11:59:33.223735",
     "status": "completed"
    },
    "tags": []
   },
   "source": [
    "* **Analyze ridership data by type and weekday**\n"
   ]
  },
  {
   "cell_type": "code",
   "execution_count": 29,
   "id": "362216c4",
   "metadata": {
    "execution": {
     "iopub.execute_input": "2022-06-02T11:59:33.265182Z",
     "iopub.status.busy": "2022-06-02T11:59:33.263732Z",
     "iopub.status.idle": "2022-06-02T11:59:36.757639Z",
     "shell.execute_reply": "2022-06-02T11:59:36.755920Z"
    },
    "papermill": {
     "duration": 3.510677,
     "end_time": "2022-06-02T11:59:36.760072",
     "exception": false,
     "start_time": "2022-06-02T11:59:33.249395",
     "status": "completed"
    },
    "tags": []
   },
   "outputs": [
    {
     "name": "stderr",
     "output_type": "stream",
     "text": [
      "\u001b[1m\u001b[22m`summarise()` has grouped output by 'member_casual'. You can override using the\n",
      "`.groups` argument.\n"
     ]
    },
    {
     "data": {
      "text/html": [
       "<table class=\"dataframe\">\n",
       "<caption>A grouped_df: 14 × 4</caption>\n",
       "<thead>\n",
       "\t<tr><th scope=col>member_casual</th><th scope=col>weekday</th><th scope=col>number_of_rides</th><th scope=col>average_duration</th></tr>\n",
       "\t<tr><th scope=col>&lt;chr&gt;</th><th scope=col>&lt;ord&gt;</th><th scope=col>&lt;int&gt;</th><th scope=col>&lt;dbl&gt;</th></tr>\n",
       "</thead>\n",
       "<tbody>\n",
       "\t<tr><td>casual</td><td>Sun</td><td>262271</td><td>3044.5856</td></tr>\n",
       "\t<tr><td>casual</td><td>Mon</td><td>151169</td><td>2698.5630</td></tr>\n",
       "\t<tr><td>casual</td><td>Tue</td><td>145267</td><td>2429.2405</td></tr>\n",
       "\t<tr><td>casual</td><td>Wed</td><td>158402</td><td>2418.8408</td></tr>\n",
       "\t<tr><td>casual</td><td>Thu</td><td>166402</td><td>2578.1268</td></tr>\n",
       "\t<tr><td>casual</td><td>Fri</td><td>208551</td><td>2566.0303</td></tr>\n",
       "\t<tr><td>casual</td><td>Sat</td><td>335059</td><td>2817.3583</td></tr>\n",
       "\t<tr><td>member</td><td>Sun</td><td>265299</td><td>1093.0548</td></tr>\n",
       "\t<tr><td>member</td><td>Mon</td><td>267336</td><td> 920.2266</td></tr>\n",
       "\t<tr><td>member</td><td>Tue</td><td>284372</td><td> 907.8393</td></tr>\n",
       "\t<tr><td>member</td><td>Wed</td><td>305097</td><td> 918.8948</td></tr>\n",
       "\t<tr><td>member</td><td>Thu</td><td>300453</td><td> 912.5715</td></tr>\n",
       "\t<tr><td>member</td><td>Fri</td><td>306398</td><td> 948.1130</td></tr>\n",
       "\t<tr><td>member</td><td>Sat</td><td>323120</td><td>1067.6161</td></tr>\n",
       "</tbody>\n",
       "</table>\n"
      ],
      "text/latex": [
       "A grouped\\_df: 14 × 4\n",
       "\\begin{tabular}{llll}\n",
       " member\\_casual & weekday & number\\_of\\_rides & average\\_duration\\\\\n",
       " <chr> & <ord> & <int> & <dbl>\\\\\n",
       "\\hline\n",
       "\t casual & Sun & 262271 & 3044.5856\\\\\n",
       "\t casual & Mon & 151169 & 2698.5630\\\\\n",
       "\t casual & Tue & 145267 & 2429.2405\\\\\n",
       "\t casual & Wed & 158402 & 2418.8408\\\\\n",
       "\t casual & Thu & 166402 & 2578.1268\\\\\n",
       "\t casual & Fri & 208551 & 2566.0303\\\\\n",
       "\t casual & Sat & 335059 & 2817.3583\\\\\n",
       "\t member & Sun & 265299 & 1093.0548\\\\\n",
       "\t member & Mon & 267336 &  920.2266\\\\\n",
       "\t member & Tue & 284372 &  907.8393\\\\\n",
       "\t member & Wed & 305097 &  918.8948\\\\\n",
       "\t member & Thu & 300453 &  912.5715\\\\\n",
       "\t member & Fri & 306398 &  948.1130\\\\\n",
       "\t member & Sat & 323120 & 1067.6161\\\\\n",
       "\\end{tabular}\n"
      ],
      "text/markdown": [
       "\n",
       "A grouped_df: 14 × 4\n",
       "\n",
       "| member_casual &lt;chr&gt; | weekday &lt;ord&gt; | number_of_rides &lt;int&gt; | average_duration &lt;dbl&gt; |\n",
       "|---|---|---|---|\n",
       "| casual | Sun | 262271 | 3044.5856 |\n",
       "| casual | Mon | 151169 | 2698.5630 |\n",
       "| casual | Tue | 145267 | 2429.2405 |\n",
       "| casual | Wed | 158402 | 2418.8408 |\n",
       "| casual | Thu | 166402 | 2578.1268 |\n",
       "| casual | Fri | 208551 | 2566.0303 |\n",
       "| casual | Sat | 335059 | 2817.3583 |\n",
       "| member | Sun | 265299 | 1093.0548 |\n",
       "| member | Mon | 267336 |  920.2266 |\n",
       "| member | Tue | 284372 |  907.8393 |\n",
       "| member | Wed | 305097 |  918.8948 |\n",
       "| member | Thu | 300453 |  912.5715 |\n",
       "| member | Fri | 306398 |  948.1130 |\n",
       "| member | Sat | 323120 | 1067.6161 |\n",
       "\n"
      ],
      "text/plain": [
       "   member_casual weekday number_of_rides average_duration\n",
       "1  casual        Sun     262271          3044.5856       \n",
       "2  casual        Mon     151169          2698.5630       \n",
       "3  casual        Tue     145267          2429.2405       \n",
       "4  casual        Wed     158402          2418.8408       \n",
       "5  casual        Thu     166402          2578.1268       \n",
       "6  casual        Fri     208551          2566.0303       \n",
       "7  casual        Sat     335059          2817.3583       \n",
       "8  member        Sun     265299          1093.0548       \n",
       "9  member        Mon     267336           920.2266       \n",
       "10 member        Tue     284372           907.8393       \n",
       "11 member        Wed     305097           918.8948       \n",
       "12 member        Thu     300453           912.5715       \n",
       "13 member        Fri     306398           948.1130       \n",
       "14 member        Sat     323120          1067.6161       "
      ]
     },
     "metadata": {},
     "output_type": "display_data"
    }
   ],
   "source": [
    "#creates weekday field using wday(), then groups by usertype and weekday, calculates the number of rides and average duration \n",
    "#calculates the average duration and sort\n",
    "\n",
    "tripdata_nd_v2 %>% \n",
    "  mutate(weekday = wday(started_at, label = TRUE)) %>%  \n",
    " group_by(member_casual, weekday) %>%\n",
    "  summarise(number_of_rides = n()\n",
    "  ,average_duration = mean(ride_length)) %>% \n",
    "  arrange(member_casual, weekday)"
   ]
  },
  {
   "cell_type": "markdown",
   "id": "b0469215",
   "metadata": {
    "papermill": {
     "duration": 0.013211,
     "end_time": "2022-06-02T11:59:36.786936",
     "exception": false,
     "start_time": "2022-06-02T11:59:36.773725",
     "status": "completed"
    },
    "tags": []
   },
   "source": [
    "* **Analyse ridership data distribution by month**"
   ]
  },
  {
   "cell_type": "code",
   "execution_count": 30,
   "id": "9d479800",
   "metadata": {
    "execution": {
     "iopub.execute_input": "2022-06-02T11:59:36.817424Z",
     "iopub.status.busy": "2022-06-02T11:59:36.815858Z",
     "iopub.status.idle": "2022-06-02T11:59:37.116134Z",
     "shell.execute_reply": "2022-06-02T11:59:37.114431Z"
    },
    "papermill": {
     "duration": 0.318234,
     "end_time": "2022-06-02T11:59:37.118341",
     "exception": false,
     "start_time": "2022-06-02T11:59:36.800107",
     "status": "completed"
    },
    "tags": []
   },
   "outputs": [
    {
     "data": {
      "text/html": [
       "<table class=\"dataframe\">\n",
       "<caption>A tibble: 12 × 6</caption>\n",
       "<thead>\n",
       "\t<tr><th scope=col>year_month</th><th scope=col>count</th><th scope=col>%</th><th scope=col>members_p</th><th scope=col>casual_p</th><th scope=col>Member x Casual Perc Difer</th></tr>\n",
       "\t<tr><th scope=col>&lt;chr&gt;</th><th scope=col>&lt;int&gt;</th><th scope=col>&lt;dbl&gt;</th><th scope=col>&lt;dbl&gt;</th><th scope=col>&lt;dbl&gt;</th><th scope=col>&lt;dbl&gt;</th></tr>\n",
       "</thead>\n",
       "<tbody>\n",
       "\t<tr><td>2020 - 04 (Apr)</td><td> 84725</td><td> 2.435189</td><td>72.13337</td><td>27.86663</td><td>44.266745</td></tr>\n",
       "\t<tr><td>2020 - 05 (May)</td><td>200102</td><td> 5.751386</td><td>56.60013</td><td>43.39987</td><td>13.200268</td></tr>\n",
       "\t<tr><td>2020 - 06 (Jun)</td><td>342536</td><td> 9.845263</td><td>54.88036</td><td>45.11964</td><td> 9.760726</td></tr>\n",
       "\t<tr><td>2020 - 07 (Jul)</td><td>549735</td><td>15.800633</td><td>51.12409</td><td>48.87591</td><td> 2.248174</td></tr>\n",
       "\t<tr><td>2020 - 08 (Aug)</td><td>619592</td><td>17.808482</td><td>53.41467</td><td>46.58533</td><td> 6.829333</td></tr>\n",
       "\t<tr><td>2020 - 09 (Sep)</td><td>530826</td><td>15.257146</td><td>56.65774</td><td>43.34226</td><td>13.315474</td></tr>\n",
       "\t<tr><td>2020 - 10 (Oct)</td><td>386742</td><td>11.115844</td><td>62.62909</td><td>37.37091</td><td>25.258182</td></tr>\n",
       "\t<tr><td>2020 - 11 (Nov)</td><td>258851</td><td> 7.439966</td><td>66.03799</td><td>33.96201</td><td>32.075982</td></tr>\n",
       "\t<tr><td>2020 - 12 (Dec)</td><td>131139</td><td> 3.769233</td><td>77.12580</td><td>22.87420</td><td>54.251596</td></tr>\n",
       "\t<tr><td>2021 - 01 (Jan)</td><td> 96832</td><td> 2.783172</td><td>81.29028</td><td>18.70972</td><td>62.580552</td></tr>\n",
       "\t<tr><td>2021 - 02 (Feb)</td><td> 49622</td><td> 1.426249</td><td>79.58365</td><td>20.41635</td><td>59.167305</td></tr>\n",
       "\t<tr><td>2021 - 03 (Mar)</td><td>228494</td><td> 6.567437</td><td>63.22354</td><td>36.77646</td><td>26.447084</td></tr>\n",
       "</tbody>\n",
       "</table>\n"
      ],
      "text/latex": [
       "A tibble: 12 × 6\n",
       "\\begin{tabular}{llllll}\n",
       " year\\_month & count & \\% & members\\_p & casual\\_p & Member x Casual Perc Difer\\\\\n",
       " <chr> & <int> & <dbl> & <dbl> & <dbl> & <dbl>\\\\\n",
       "\\hline\n",
       "\t 2020 - 04 (Apr) &  84725 &  2.435189 & 72.13337 & 27.86663 & 44.266745\\\\\n",
       "\t 2020 - 05 (May) & 200102 &  5.751386 & 56.60013 & 43.39987 & 13.200268\\\\\n",
       "\t 2020 - 06 (Jun) & 342536 &  9.845263 & 54.88036 & 45.11964 &  9.760726\\\\\n",
       "\t 2020 - 07 (Jul) & 549735 & 15.800633 & 51.12409 & 48.87591 &  2.248174\\\\\n",
       "\t 2020 - 08 (Aug) & 619592 & 17.808482 & 53.41467 & 46.58533 &  6.829333\\\\\n",
       "\t 2020 - 09 (Sep) & 530826 & 15.257146 & 56.65774 & 43.34226 & 13.315474\\\\\n",
       "\t 2020 - 10 (Oct) & 386742 & 11.115844 & 62.62909 & 37.37091 & 25.258182\\\\\n",
       "\t 2020 - 11 (Nov) & 258851 &  7.439966 & 66.03799 & 33.96201 & 32.075982\\\\\n",
       "\t 2020 - 12 (Dec) & 131139 &  3.769233 & 77.12580 & 22.87420 & 54.251596\\\\\n",
       "\t 2021 - 01 (Jan) &  96832 &  2.783172 & 81.29028 & 18.70972 & 62.580552\\\\\n",
       "\t 2021 - 02 (Feb) &  49622 &  1.426249 & 79.58365 & 20.41635 & 59.167305\\\\\n",
       "\t 2021 - 03 (Mar) & 228494 &  6.567437 & 63.22354 & 36.77646 & 26.447084\\\\\n",
       "\\end{tabular}\n"
      ],
      "text/markdown": [
       "\n",
       "A tibble: 12 × 6\n",
       "\n",
       "| year_month &lt;chr&gt; | count &lt;int&gt; | % &lt;dbl&gt; | members_p &lt;dbl&gt; | casual_p &lt;dbl&gt; | Member x Casual Perc Difer &lt;dbl&gt; |\n",
       "|---|---|---|---|---|---|\n",
       "| 2020 - 04 (Apr) |  84725 |  2.435189 | 72.13337 | 27.86663 | 44.266745 |\n",
       "| 2020 - 05 (May) | 200102 |  5.751386 | 56.60013 | 43.39987 | 13.200268 |\n",
       "| 2020 - 06 (Jun) | 342536 |  9.845263 | 54.88036 | 45.11964 |  9.760726 |\n",
       "| 2020 - 07 (Jul) | 549735 | 15.800633 | 51.12409 | 48.87591 |  2.248174 |\n",
       "| 2020 - 08 (Aug) | 619592 | 17.808482 | 53.41467 | 46.58533 |  6.829333 |\n",
       "| 2020 - 09 (Sep) | 530826 | 15.257146 | 56.65774 | 43.34226 | 13.315474 |\n",
       "| 2020 - 10 (Oct) | 386742 | 11.115844 | 62.62909 | 37.37091 | 25.258182 |\n",
       "| 2020 - 11 (Nov) | 258851 |  7.439966 | 66.03799 | 33.96201 | 32.075982 |\n",
       "| 2020 - 12 (Dec) | 131139 |  3.769233 | 77.12580 | 22.87420 | 54.251596 |\n",
       "| 2021 - 01 (Jan) |  96832 |  2.783172 | 81.29028 | 18.70972 | 62.580552 |\n",
       "| 2021 - 02 (Feb) |  49622 |  1.426249 | 79.58365 | 20.41635 | 59.167305 |\n",
       "| 2021 - 03 (Mar) | 228494 |  6.567437 | 63.22354 | 36.77646 | 26.447084 |\n",
       "\n"
      ],
      "text/plain": [
       "   year_month      count  %         members_p casual_p\n",
       "1  2020 - 04 (Apr)  84725  2.435189 72.13337  27.86663\n",
       "2  2020 - 05 (May) 200102  5.751386 56.60013  43.39987\n",
       "3  2020 - 06 (Jun) 342536  9.845263 54.88036  45.11964\n",
       "4  2020 - 07 (Jul) 549735 15.800633 51.12409  48.87591\n",
       "5  2020 - 08 (Aug) 619592 17.808482 53.41467  46.58533\n",
       "6  2020 - 09 (Sep) 530826 15.257146 56.65774  43.34226\n",
       "7  2020 - 10 (Oct) 386742 11.115844 62.62909  37.37091\n",
       "8  2020 - 11 (Nov) 258851  7.439966 66.03799  33.96201\n",
       "9  2020 - 12 (Dec) 131139  3.769233 77.12580  22.87420\n",
       "10 2021 - 01 (Jan)  96832  2.783172 81.29028  18.70972\n",
       "11 2021 - 02 (Feb)  49622  1.426249 79.58365  20.41635\n",
       "12 2021 - 03 (Mar) 228494  6.567437 63.22354  36.77646\n",
       "   Member x Casual Perc Difer\n",
       "1  44.266745                 \n",
       "2  13.200268                 \n",
       "3   9.760726                 \n",
       "4   2.248174                 \n",
       "5   6.829333                 \n",
       "6  13.315474                 \n",
       "7  25.258182                 \n",
       "8  32.075982                 \n",
       "9  54.251596                 \n",
       "10 62.580552                 \n",
       "11 59.167305                 \n",
       "12 26.447084                 "
      ]
     },
     "metadata": {},
     "output_type": "display_data"
    }
   ],
   "source": [
    "tripdata_nd_v2 %>%\n",
    "    group_by(year_month) %>%\n",
    "    summarise(count = length(ride_id),\n",
    "              '%' = (length(ride_id) / nrow(tripdata_nd_v2)) * 100,\n",
    "              'members_p' = (sum(member_casual == \"member\") / length(ride_id)) * 100,\n",
    "              'casual_p' = (sum(member_casual == \"casual\") / length(ride_id)) * 100,\n",
    "              'Member x Casual Perc Difer' = members_p - casual_p)"
   ]
  },
  {
   "cell_type": "markdown",
   "id": "d10ee798",
   "metadata": {
    "papermill": {
     "duration": 0.013402,
     "end_time": "2022-06-02T11:59:37.144975",
     "exception": false,
     "start_time": "2022-06-02T11:59:37.131573",
     "status": "completed"
    },
    "tags": []
   },
   "source": [
    "# Visualize Data\n",
    "* **Visualize the distribution of data between members and casuals**"
   ]
  },
  {
   "cell_type": "code",
   "execution_count": 31,
   "id": "99d6922a",
   "metadata": {
    "execution": {
     "iopub.execute_input": "2022-06-02T11:59:37.174098Z",
     "iopub.status.busy": "2022-06-02T11:59:37.172620Z",
     "iopub.status.idle": "2022-06-02T11:59:41.307020Z",
     "shell.execute_reply": "2022-06-02T11:59:41.304456Z"
    },
    "papermill": {
     "duration": 4.151959,
     "end_time": "2022-06-02T11:59:41.309990",
     "exception": false,
     "start_time": "2022-06-02T11:59:37.158031",
     "status": "completed"
    },
    "tags": []
   },
   "outputs": [
    {
     "data": {
      "image/png": "[encoded data removed]"
     },
     "metadata": {
      "image/png": {
       "height": 420,
       "width": 420
      }
     },
     "output_type": "display_data"
    }
   ],
   "source": [
    "ggplot(tripdata_nd_v2, aes(member_casual, fill=member_casual)) +\n",
    "    geom_bar() +\n",
    "    labs(x=\"Casuals x Members\", title=\"Chart 01 - Casuals x Members distribution\")"
   ]
  },
  {
   "cell_type": "markdown",
   "id": "f4571622",
   "metadata": {
    "papermill": {
     "duration": 0.013474,
     "end_time": "2022-06-02T11:59:41.337280",
     "exception": false,
     "start_time": "2022-06-02T11:59:41.323806",
     "status": "completed"
    },
    "tags": []
   },
   "source": [
    "From the chart above we can see that there are more members than casuals in this dataset with a proportional percentage of approximately 59% : 41%"
   ]
  },
  {
   "cell_type": "markdown",
   "id": "346101e5",
   "metadata": {
    "papermill": {
     "duration": 0.014284,
     "end_time": "2022-06-02T11:59:41.365158",
     "exception": false,
     "start_time": "2022-06-02T11:59:41.350874",
     "status": "completed"
    },
    "tags": []
   },
   "source": [
    "* **Visualize the number of rides by rider type**\n"
   ]
  },
  {
   "cell_type": "code",
   "execution_count": 32,
   "id": "f38d1ac1",
   "metadata": {
    "execution": {
     "iopub.execute_input": "2022-06-02T11:59:41.396880Z",
     "iopub.status.busy": "2022-06-02T11:59:41.395310Z",
     "iopub.status.idle": "2022-06-02T11:59:46.149899Z",
     "shell.execute_reply": "2022-06-02T11:59:46.148147Z"
    },
    "papermill": {
     "duration": 4.772443,
     "end_time": "2022-06-02T11:59:46.152097",
     "exception": false,
     "start_time": "2022-06-02T11:59:41.379654",
     "status": "completed"
    },
    "tags": []
   },
   "outputs": [
    {
     "name": "stderr",
     "output_type": "stream",
     "text": [
      "\u001b[1m\u001b[22m`summarise()` has grouped output by 'member_casual'. You can override using the\n",
      "`.groups` argument.\n"
     ]
    },
    {
     "data": {
      "image/png": "[encoded data removed]"
     },
     "metadata": {
      "image/png": {
       "height": 420,
       "width": 420
      }
     },
     "output_type": "display_data"
    }
   ],
   "source": [
    "tripdata_nd_v2 %>% \n",
    "  mutate(weekday = wday(started_at, label = TRUE)) %>% \n",
    "  group_by(member_casual, weekday) %>% \n",
    "  summarise(number_of_rides = n()\n",
    "            ,average_duration = mean(ride_length)) %>% \n",
    "  arrange(member_casual, weekday)  %>% \n",
    "  ggplot(aes(x = weekday, y = number_of_rides, fill = member_casual)) +\n",
    "  geom_col(position = \"dodge\")\n"
   ]
  },
  {
   "cell_type": "markdown",
   "id": "1f18678c",
   "metadata": {
    "papermill": {
     "duration": 0.014932,
     "end_time": "2022-06-02T11:59:46.181776",
     "exception": false,
     "start_time": "2022-06-02T11:59:46.166844",
     "status": "completed"
    },
    "tags": []
   },
   "source": [
    "We can from the visuals above see that;\n",
    "* There are more rides on weekednds, saturday and sunday\n",
    "* An increased number of rides: Casual riders ride more on saturdays.\n"
   ]
  },
  {
   "cell_type": "markdown",
   "id": "fb014d34",
   "metadata": {
    "papermill": {
     "duration": 0.014976,
     "end_time": "2022-06-02T11:59:46.211090",
     "exception": false,
     "start_time": "2022-06-02T11:59:46.196114",
     "status": "completed"
    },
    "tags": []
   },
   "source": [
    "* **Visualize ridership datatype by month**"
   ]
  },
  {
   "cell_type": "code",
   "execution_count": 33,
   "id": "b250008b",
   "metadata": {
    "execution": {
     "iopub.execute_input": "2022-06-02T11:59:46.243360Z",
     "iopub.status.busy": "2022-06-02T11:59:46.241791Z",
     "iopub.status.idle": "2022-06-02T11:59:46.703935Z",
     "shell.execute_reply": "2022-06-02T11:59:46.702130Z"
    },
    "papermill": {
     "duration": 0.480239,
     "end_time": "2022-06-02T11:59:46.706192",
     "exception": false,
     "start_time": "2022-06-02T11:59:46.225953",
     "status": "completed"
    },
    "tags": []
   },
   "outputs": [
    {
     "name": "stderr",
     "output_type": "stream",
     "text": [
      "\u001b[1m\u001b[22m`summarise()` has grouped output by 'member_casual'. You can override using the\n",
      "`.groups` argument.\n"
     ]
    },
    {
     "data": {
      "image/png": "[encoded data removed]"
     },
     "metadata": {
      "image/png": {
       "height": 420,
       "width": 420
      }
     },
     "output_type": "display_data"
    }
   ],
   "source": [
    "tripdata_nd_v2 %>% \n",
    "  group_by(member_casual, month) %>% \n",
    "  summarise(number_of_rides = n(), average_duration = mean(ride_length)) %>% \n",
    "  arrange(member_casual, month)\t%>% \n",
    "  ggplot(aes(x = month, y = number_of_rides, fill = member_casual)) +\n",
    "  geom_col(position = \"dodge\") + labs(title=\"Total Number of Ride by Month\", x = \"Month\", y = \"Number of Rides\") + theme(axis.text.x = element_text(angle = 60, hjust = 1))"
   ]
  },
  {
   "cell_type": "markdown",
   "id": "e653f4bf",
   "metadata": {
    "papermill": {
     "duration": 0.015298,
     "end_time": "2022-06-02T11:59:46.737638",
     "exception": false,
     "start_time": "2022-06-02T11:59:46.722340",
     "status": "completed"
    },
    "tags": []
   },
   "source": [
    "From the chart above we can see that August had the highest number of rides"
   ]
  },
  {
   "cell_type": "markdown",
   "id": "631dde77",
   "metadata": {
    "papermill": {
     "duration": 0.015182,
     "end_time": "2022-06-02T11:59:46.767932",
     "exception": false,
     "start_time": "2022-06-02T11:59:46.752750",
     "status": "completed"
    },
    "tags": []
   },
   "source": [
    "* **Create a visualization for average duration**"
   ]
  },
  {
   "cell_type": "code",
   "execution_count": 34,
   "id": "5846ba71",
   "metadata": {
    "execution": {
     "iopub.execute_input": "2022-06-02T11:59:46.801189Z",
     "iopub.status.busy": "2022-06-02T11:59:46.799610Z",
     "iopub.status.idle": "2022-06-02T11:59:50.508430Z",
     "shell.execute_reply": "2022-06-02T11:59:50.506649Z"
    },
    "papermill": {
     "duration": 3.728069,
     "end_time": "2022-06-02T11:59:50.510938",
     "exception": false,
     "start_time": "2022-06-02T11:59:46.782869",
     "status": "completed"
    },
    "tags": []
   },
   "outputs": [
    {
     "name": "stderr",
     "output_type": "stream",
     "text": [
      "\u001b[1m\u001b[22m`summarise()` has grouped output by 'member_casual'. You can override using the\n",
      "`.groups` argument.\n"
     ]
    },
    {
     "data": {
      "image/png": "[encoded data removed]"
     },
     "metadata": {
      "image/png": {
       "height": 420,
       "width": 420
      }
     },
     "output_type": "display_data"
    }
   ],
   "source": [
    "tripdata_nd_v2 %>% \n",
    "  mutate(weekday = wday(started_at, label = TRUE)) %>% \n",
    "  group_by(member_casual, weekday) %>% \n",
    "  summarise(number_of_rides = n()\n",
    "            ,average_duration = mean(ride_length)) %>% \n",
    "  arrange(member_casual, weekday)  %>% \n",
    "  ggplot(aes(x = weekday, y = average_duration, fill = member_casual)) +\n",
    "  geom_col(position = \"dodge\")\n"
   ]
  },
  {
   "cell_type": "markdown",
   "id": "57cbd61f",
   "metadata": {
    "papermill": {
     "duration": 0.015775,
     "end_time": "2022-06-02T11:59:50.542774",
     "exception": false,
     "start_time": "2022-06-02T11:59:50.526999",
     "status": "completed"
    },
    "tags": []
   },
   "source": [
    "On the average;\n",
    "* The duration of casual rides re higher than that of members"
   ]
  },
  {
   "cell_type": "markdown",
   "id": "62531160",
   "metadata": {
    "papermill": {
     "duration": 0.015817,
     "end_time": "2022-06-02T11:59:50.574343",
     "exception": false,
     "start_time": "2022-06-02T11:59:50.558526",
     "status": "completed"
    },
    "tags": []
   },
   "source": [
    "* **Analyzing member ridersip alone**\n"
   ]
  },
  {
   "cell_type": "code",
   "execution_count": 35,
   "id": "315f941a",
   "metadata": {
    "execution": {
     "iopub.execute_input": "2022-06-02T11:59:50.609754Z",
     "iopub.status.busy": "2022-06-02T11:59:50.608201Z",
     "iopub.status.idle": "2022-06-02T11:59:50.995217Z",
     "shell.execute_reply": "2022-06-02T11:59:50.993355Z"
    },
    "papermill": {
     "duration": 0.407841,
     "end_time": "2022-06-02T11:59:50.997956",
     "exception": false,
     "start_time": "2022-06-02T11:59:50.590115",
     "status": "completed"
    },
    "tags": []
   },
   "outputs": [],
   "source": [
    "#Create a new data frame for member riders\n",
    "tripdata_member <-  filter(tripdata_nd_v2, member_casual == \"member\")"
   ]
  },
  {
   "cell_type": "code",
   "execution_count": 36,
   "id": "e07de9f5",
   "metadata": {
    "execution": {
     "iopub.execute_input": "2022-06-02T11:59:51.035537Z",
     "iopub.status.busy": "2022-06-02T11:59:51.033916Z",
     "iopub.status.idle": "2022-06-02T11:59:51.458728Z",
     "shell.execute_reply": "2022-06-02T11:59:51.456860Z"
    },
    "papermill": {
     "duration": 0.44674,
     "end_time": "2022-06-02T11:59:51.461040",
     "exception": false,
     "start_time": "2022-06-02T11:59:51.014300",
     "status": "completed"
    },
    "tags": []
   },
   "outputs": [
    {
     "name": "stderr",
     "output_type": "stream",
     "text": [
      "\u001b[1m\u001b[22m`summarise()` has grouped output by 'rideable_type'. You can override using the\n",
      "`.groups` argument.\n"
     ]
    },
    {
     "data": {
      "image/png": "[encoded data removed]"
     },
     "metadata": {
      "image/png": {
       "height": 420,
       "width": 420
      }
     },
     "output_type": "display_data"
    }
   ],
   "source": [
    "#Analyze member ridership data by ridable_type and month\n",
    "\n",
    "tripdata_member %>% \n",
    "  group_by(rideable_type, month) %>% \n",
    "  summarise(number_of_rides = n(), average_duration = mean(ride_length)) %>% \n",
    "  arrange(rideable_type, month)\t%>% \n",
    "  ggplot(aes(x = month, y = number_of_rides, fill = rideable_type)) +\n",
    "  geom_col(position = \"dodge\") + labs(title=\"Total Number of Member Rides by Month\", x = \"Month\", y = \"Number of Member Rides\") + theme(axis.text.x = element_text(angle = 60, hjust = 1))"
   ]
  },
  {
   "cell_type": "markdown",
   "id": "82ef7faf",
   "metadata": {
    "papermill": {
     "duration": 0.017247,
     "end_time": "2022-06-02T11:59:51.494908",
     "exception": false,
     "start_time": "2022-06-02T11:59:51.477661",
     "status": "completed"
    },
    "tags": []
   },
   "source": [
    "From the Chart above we can see that there are 3 ridable types;\n",
    "* classic_bikes\n",
    "* docked_bikes\n",
    "* electric_bikes\n",
    "\n",
    "From the months of April to June only docked_biles were used\n",
    "From the month of April more docked bikes were used.\n",
    "Electric bikes were usedin January, Febuary, March and December."
   ]
  },
  {
   "cell_type": "code",
   "execution_count": 37,
   "id": "987f6235",
   "metadata": {
    "execution": {
     "iopub.execute_input": "2022-06-02T11:59:51.534148Z",
     "iopub.status.busy": "2022-06-02T11:59:51.532404Z",
     "iopub.status.idle": "2022-06-02T11:59:52.969389Z",
     "shell.execute_reply": "2022-06-02T11:59:52.967470Z"
    },
    "papermill": {
     "duration": 1.458839,
     "end_time": "2022-06-02T11:59:52.971924",
     "exception": false,
     "start_time": "2022-06-02T11:59:51.513085",
     "status": "completed"
    },
    "tags": []
   },
   "outputs": [
    {
     "name": "stderr",
     "output_type": "stream",
     "text": [
      "\u001b[1m\u001b[22m`summarise()` has grouped output by 'rideable_type'. You can override using the\n",
      "`.groups` argument.\n"
     ]
    },
    {
     "data": {
      "image/png": "[encoded data removed]"
     },
     "metadata": {
      "image/png": {
       "height": 420,
       "width": 420
      }
     },
     "output_type": "display_data"
    }
   ],
   "source": [
    "# Analyze member ridership data by ridable_type and day of the week\n",
    "\n",
    "\n",
    "tripdata_member %>% \n",
    "  group_by(rideable_type, day_of_week) %>% \n",
    "  summarise(number_of_rides = n(), average_duration = mean(ride_length)) %>% \n",
    "  arrange(rideable_type, day_of_week)%>% \n",
    "  ggplot(aes(x = day_of_week, y = number_of_rides, fill = rideable_type)) +\n",
    "  geom_col(position = \"dodge\") + labs(title=\"Total Number of Member Rides by Day\", x = \"Week Day\", y = \"Number of Member Rides\") + theme(axis.text.x = element_text(angle = 60, hjust = 1))"
   ]
  },
  {
   "cell_type": "markdown",
   "id": "4941c597",
   "metadata": {
    "papermill": {
     "duration": 0.018231,
     "end_time": "2022-06-02T11:59:53.009116",
     "exception": false,
     "start_time": "2022-06-02T11:59:52.990885",
     "status": "completed"
    },
    "tags": []
   },
   "source": [
    "The chart above reemphasies what i have already established in the previous charts\n",
    "* There are more rides on saturday than the rest of the day\n",
    "From the chart we can see that dorked_bikes are the preferred bike and mostly used ridable_bike"
   ]
  },
  {
   "cell_type": "markdown",
   "id": "79ca080d",
   "metadata": {
    "papermill": {
     "duration": 0.017948,
     "end_time": "2022-06-02T11:59:53.044741",
     "exception": false,
     "start_time": "2022-06-02T11:59:53.026793",
     "status": "completed"
    },
    "tags": []
   },
   "source": [
    "# Share\n",
    "Having gained some insights into our data,from the analysis performed above, we were able;\n",
    "* Understand how casual bike riders and annual members use bike differently\n",
    "* My audience are the executive members and Lily Moreno and the best way to them is through a visual presentation\n",
    "* Data visualization can help me share my findings\n",
    "* I will be visualizing this analysis here on using the kaggle notebook, and the presentation will be accessible to my audience\n",
    "\n",
    "\n"
   ]
  },
  {
   "cell_type": "markdown",
   "id": "c16b7265",
   "metadata": {
    "papermill": {
     "duration": 0.018186,
     "end_time": "2022-06-02T11:59:53.081389",
     "exception": false,
     "start_time": "2022-06-02T11:59:53.063203",
     "status": "completed"
    },
    "tags": []
   },
   "source": [
    "# Act\n",
    "**Conclusion based on my analysis**\n",
    "* We have two audience, the casual riders and the members\n",
    "* Members make up approximately 59% of the dataset while the Casuals make up ~41%\n",
    "* August had the highest number of rides and the weekday with the highest number of rides is Saturday\n",
    "* In each month there are more member riders than casual riders\n",
    "* In each day there are also more member riders than casual riders except on saturday\n",
    "* The weekend had more ridership data than the rest of the week\n",
    "* The choice of ridable_bikes influence the number of rides \n",
    "* Members ride more on the weekdays \n",
    "* Casual riders have more ride duration than member riders \n",
    "\n",
    "My team and business can apply this insight when preparing a marketing campaign the number of members by turning the casual riders\n",
    "\n",
    "Further analysis could be done to improve my findings, like the routes taken by riders and how it infuences their choice of ridable_bikes or duration, geographical location and impact on becoming a member and the effect of temperature or seasons on these choices."
   ]
  },
  {
   "cell_type": "markdown",
   "id": "2d8db0ac",
   "metadata": {
    "papermill": {
     "duration": 0.018272,
     "end_time": "2022-06-02T11:59:53.117130",
     "exception": false,
     "start_time": "2022-06-02T11:59:53.098858",
     "status": "completed"
    },
    "tags": []
   },
   "source": [
    "# Recommendation\n",
    "* The duration of rides for members should be increased as a enticing attraction for casual riders\n",
    "* A digital marketing campaign should be done to create awareness for membership option with enticing benefits like discounts and giveaways, there should also be campaigns to promote going green and reducing pollution. events can be organized in collaboration with companies that promote green economy.\n",
    "* The months with low classic ridable bikes should be put into consideration and a provision for more of themm should be made.\n"
   ]
  },
  {
   "cell_type": "markdown",
   "id": "5b5143bb",
   "metadata": {
    "papermill": {
     "duration": 0.019027,
     "end_time": "2022-06-02T11:59:53.153459",
     "exception": false,
     "start_time": "2022-06-02T11:59:53.134432",
     "status": "completed"
    },
    "tags": []
   },
   "source": [
    "# Finally\n",
    "\n",
    "Thankyou for reading my first Capstone project for my Google Data Analytics certification course.\n",
    "I also want to thank the whole google team for an amaing course that have provided me with such an amazing opportunity to learn and not just learn but also put my lessons to practice and have exposed me to community of data lovers here on kaggle.\n"
   ]
  },
  {
   "cell_type": "markdown",
   "id": "6c6a1d7f",
   "metadata": {
    "papermill": {
     "duration": 0.018734,
     "end_time": "2022-06-02T11:59:53.190460",
     "exception": false,
     "start_time": "2022-06-02T11:59:53.171726",
     "status": "completed"
    },
    "tags": []
   },
   "source": [
    "# **Refernces**\n",
    "* Learnt how to import and merge my data files from a youtube video Kaggle / Cyclistic Bikeshare Introduction can be accessed[here](http://https://www.youtube.com/watch?v=THk4hPG8y5o&t=311s)\n",
    "* Used a kaggle notebooks as a guide. can be accessed [here](https://www.kaggle.com/code/jhelisonuchoa/google-data-analytics-capstone-case-study-1/notebook) and [here](https://www.kaggle.com/code/moirangthem/cyclistic-google-data-analytics-capstone-project/notebook)\n",
    "* Learnt how to convert datetime to POSIXct [here](https://www.neonscience.org/resources/learning-hub/tutorials/dc-convert-date-time-posix-r#:~:text=POSIXct%20stores%20both%20a%20date,beginning%20at%201%20January%201970.)"
   ]
  }
 ],
 "metadata": {
  "kernelspec": {
   "display_name": "R",
   "language": "R",
   "name": "ir"
  },
  "language_info": {
   "codemirror_mode": "r",
   "file_extension": ".r",
   "mimetype": "text/x-r-source",
   "name": "R",
   "pygments_lexer": "r",
   "version": "4.0.5"
  },
  "papermill": {
   "default_parameters": {},
   "duration": 287.720003,
   "end_time": "2022-06-02T11:59:53.532828",
   "environment_variables": {},
   "exception": null,
   "input_path": "__notebook__.ipynb",
   "output_path": "__notebook__.ipynb",
   "parameters": {},
   "start_time": "2022-06-02T11:55:05.812825",
   "version": "2.3.4"
  }
 },
 "nbformat": 4,
 "nbformat_minor": 5
}
